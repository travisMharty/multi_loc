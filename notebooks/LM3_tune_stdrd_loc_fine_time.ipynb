{
 "cells": [
  {
   "cell_type": "markdown",
   "metadata": {},
   "source": [
    "# Should change Tkf below"
   ]
  },
  {
   "cell_type": "code",
   "execution_count": 1,
   "metadata": {},
   "outputs": [],
   "source": [
    "import importlib\n",
    "import time\n",
    "import os\n",
    "import pickle\n",
    "import numpy as np\n",
    "import scipy as sp\n",
    "import pandas as pd\n",
    "import xarray as xr\n",
    "import matplotlib.pyplot as plt\n",
    "from scipy import ndimage\n",
    "from scipy import integrate\n",
    "from scipy import interpolate"
   ]
  },
  {
   "cell_type": "markdown",
   "metadata": {},
   "source": [
    "# Should change Tkf below"
   ]
  },
  {
   "cell_type": "code",
   "execution_count": 2,
   "metadata": {},
   "outputs": [],
   "source": [
    "from multi_loc import covariance, assimilate, utilities"
   ]
  },
  {
   "cell_type": "code",
   "execution_count": 3,
   "metadata": {},
   "outputs": [],
   "source": [
    "%matplotlib inline"
   ]
  },
  {
   "cell_type": "code",
   "execution_count": 4,
   "metadata": {},
   "outputs": [],
   "source": [
    "def imshow(X, title=None, vmin=None, vmax=None, cmap=None):\n",
    "    plt.figure()\n",
    "    im = plt.imshow(X, vmin=vmin, vmax=vmax, cmap=cmap)\n",
    "    plt.colorbar(im)\n",
    "    plt.title(title)"
   ]
  },
  {
   "cell_type": "code",
   "execution_count": 5,
   "metadata": {},
   "outputs": [],
   "source": [
    "tune_name = 'fine_obs'\n",
    "\n",
    "save_dir = 'fine_time'\n",
    "\n",
    "home = os.path.expanduser('~')\n",
    "save_dir = os.path.join(\n",
    "    home,\n",
    "    'Documents/python_code/multi_loc/notebooks/',\n",
    "    save_dir)\n",
    "    \n",
    "this_path = os.path.join(save_dir, 'Z_GT.npy')\n",
    "Zgt = np.load(this_path)\n",
    "\n",
    "this_path = os.path.join(save_dir, 'Z0_ens.npy')\n",
    "Z0ens = np.load(this_path)\n",
    "\n",
    "this_path = os.path.join(save_dir, 't_gt.npy')\n",
    "t_gt = np.load(this_path)\n",
    "\n",
    "\n",
    "this_path = os.path.join(save_dir, 'run_vars.pkl')\n",
    "with open(this_path, mode='rb') as f:\n",
    "    run_vars = pickle.load(f)"
   ]
  },
  {
   "cell_type": "code",
   "execution_count": 6,
   "metadata": {
    "scrolled": true
   },
   "outputs": [
    {
     "name": "stdout",
     "output_type": "stream",
     "text": [
      "Nz = 960\n",
      "K = 32\n",
      "I = 12\n",
      "F = 15.0\n",
      "b = 10.0\n",
      "c = 2.5\n",
      "alpha = 0.12414383561643835\n",
      "beta = 0.013746194824961947\n",
      "coarse = 8\n",
      "Nez = 20\n",
      "Nex = 500\n",
      "dt_gt = 0.000625\n",
      "Tgt = 25.0\n"
     ]
    }
   ],
   "source": [
    "for key, value in run_vars.items():\n",
    "    print(key + ' = ' + str(value))\n",
    "    exec(key + '=value')"
   ]
  },
  {
   "cell_type": "markdown",
   "metadata": {},
   "source": [
    "# Should change Tkf below"
   ]
  },
  {
   "cell_type": "code",
   "execution_count": 11,
   "metadata": {},
   "outputs": [],
   "source": [
    "tune_dir = os.path.join(save_dir, tune_name)\n",
    "if not os.path.exists(tune_dir):\n",
    "    os.mkdir(tune_dir)\n",
    "\n",
    "dt_trial_rk = 0.005/8\n",
    "dt_kf = 0.005\n",
    "dt_save = None\n",
    "Tkf = Tgt/5     ######## Change this (I forgot) #######\n",
    "Tspin_index = 500\n",
    "Tspin = dt_kf * Tspin_index\n",
    "\n",
    "alpha_range = np.array([0, 0.01, 0.02], dtype='float')\n",
    "loc_range = np.array([2, 5, 10, 15], dtype='float')\n",
    "\n",
    "\n",
    "R_sd = 0.3\n",
    "everyH = 2\n",
    "Hz = np.eye(Nz)[::everyH]\n",
    "Ny = Hz.shape[0]\n",
    "Rz = np.eye(Ny) * R_sd**2\n",
    "\n",
    "fine_obs_dict = {'dt_trial_rk': dt_trial_rk,\n",
    "                 'dt_kf': dt_kf,\n",
    "                 'dt_save': dt_save,\n",
    "                 'Tkf': Tkf,\n",
    "                 'Tspin': Tspin,\n",
    "                 'alpha_range': alpha_range,\n",
    "                 'loc_range': loc_range,\n",
    "                 'R_sd': R_sd,\n",
    "                 'everyH': everyH,\n",
    "                 'Hz': Hz,\n",
    "                 'Rz': Rz}\n",
    "\n",
    "this_path = os.path.join(tune_dir, 'fine_obs_dict.pkl')\n",
    "with open(this_path, mode='wb') as f:\n",
    "    pickle.dump(fine_obs_dict, f)"
   ]
  },
  {
   "cell_type": "code",
   "execution_count": 12,
   "metadata": {},
   "outputs": [],
   "source": [
    "Nobs = int(Tkf/dt_kf) + 1\n",
    "t_kf = np.linspace(0, Tkf, Nobs)\n",
    "\n",
    "Ngt = int(Tgt/dt_gt) + 1\n",
    "t_gt = np.linspace(0, Tgt, Ngt)\n",
    "index_Tkf = int(Tkf/dt_gt) + 1\n",
    "\n",
    "every_t = int(dt_kf/dt_gt)\n",
    "\n",
    "if not np.allclose(t_kf, t_gt[0:index_Tkf:every_t]):\n",
    "    print('They do not match')"
   ]
  },
  {
   "cell_type": "code",
   "execution_count": 13,
   "metadata": {},
   "outputs": [
    {
     "ename": "NameError",
     "evalue": "name 'Zgt' is not defined",
     "output_type": "error",
     "traceback": [
      "\u001b[0;31m---------------------------------------------------------------------------\u001b[0m",
      "\u001b[0;31mNameError\u001b[0m                                 Traceback (most recent call last)",
      "\u001b[0;32m<ipython-input-13-8327d0212089>\u001b[0m in \u001b[0;36m<module>\u001b[0;34m\u001b[0m\n\u001b[1;32m      1\u001b[0m \u001b[0mZloc\u001b[0m \u001b[0;34m=\u001b[0m \u001b[0mnp\u001b[0m\u001b[0;34m.\u001b[0m\u001b[0marange\u001b[0m\u001b[0;34m(\u001b[0m\u001b[0mNz\u001b[0m\u001b[0;34m)\u001b[0m\u001b[0;34m\u001b[0m\u001b[0;34m\u001b[0m\u001b[0m\n\u001b[1;32m      2\u001b[0m \u001b[0;34m\u001b[0m\u001b[0m\n\u001b[0;32m----> 3\u001b[0;31m Zgt_ts = xr.DataArray(Zgt[:, 0:index_Tkf:every_t],\n\u001b[0m\u001b[1;32m      4\u001b[0m                       \u001b[0mdims\u001b[0m\u001b[0;34m=\u001b[0m\u001b[0;34m(\u001b[0m\u001b[0;34m'loc'\u001b[0m\u001b[0;34m,\u001b[0m \u001b[0;34m'time'\u001b[0m\u001b[0;34m)\u001b[0m\u001b[0;34m,\u001b[0m\u001b[0;34m\u001b[0m\u001b[0;34m\u001b[0m\u001b[0m\n\u001b[1;32m      5\u001b[0m                       coords={'loc': Zloc,\n",
      "\u001b[0;31mNameError\u001b[0m: name 'Zgt' is not defined"
     ]
    }
   ],
   "source": [
    "Zloc = np.arange(Nz)\n",
    "\n",
    "Zgt_ts = xr.DataArray(Zgt[:, 0:index_Tkf:every_t],\n",
    "                      dims=('loc', 'time'),\n",
    "                      coords={'loc': Zloc,\n",
    "                              'time': t_kf})\n",
    "Zobs_ts = Zgt[::everyH, 0:index_Tkf:every_t]\n",
    "Zobs_ts = xr.DataArray(Zobs_ts,\n",
    "                       dims=('loc', 'time'),\n",
    "                       coords={'loc': Zloc[::everyH],\n",
    "                               'time': t_kf})\n",
    "del Zgt"
   ]
  },
  {
   "cell_type": "code",
   "execution_count": 14,
   "metadata": {
    "scrolled": false
   },
   "outputs": [
    {
     "name": "stdout",
     "output_type": "stream",
     "text": [
      "alpha:  0.0 ; loc:  2.0\n",
      "/Users/harty/Documents/python_code/multi_loc/notebooks/fine_time/fine_obs/stdrd_loc/inf_0000_loc_0000\n",
      "rmse_f:  0.040244441531576046\n",
      "rmse_a:  0.037040484972469555\n",
      "alpha:  0.0 ; loc:  5.0\n",
      "/Users/harty/Documents/python_code/multi_loc/notebooks/fine_time/fine_obs/stdrd_loc/inf_0000_loc_0001\n",
      "rmse_f:  0.17809553841461098\n",
      "rmse_a:  0.17238620535194493\n",
      "alpha:  0.0 ; loc:  10.0\n",
      "/Users/harty/Documents/python_code/multi_loc/notebooks/fine_time/fine_obs/stdrd_loc/inf_0000_loc_0002\n",
      "/Users/harty/Documents/python_code/multi_loc/notebooks/fine_time/fine_obs/stdrd_loc/inf_0000_loc_0002  has failed.\n",
      "alpha:  0.0 ; loc:  15.0\n",
      "/Users/harty/Documents/python_code/multi_loc/notebooks/fine_time/fine_obs/stdrd_loc/inf_0000_loc_0003\n",
      "rmse_f:  0.3482798795050228\n",
      "rmse_a:  0.3426018548707501\n",
      "alpha:  0.01 ; loc:  2.0\n",
      "/Users/harty/Documents/python_code/multi_loc/notebooks/fine_time/fine_obs/stdrd_loc/inf_0001_loc_0000\n",
      "rmse_f:  0.04265408563680514\n",
      "rmse_a:  0.038642006110853104\n",
      "alpha:  0.01 ; loc:  5.0\n",
      "/Users/harty/Documents/python_code/multi_loc/notebooks/fine_time/fine_obs/stdrd_loc/inf_0001_loc_0001\n",
      "rmse_f:  0.030618478803605933\n",
      "rmse_a:  0.02810236788151459\n",
      "alpha:  0.01 ; loc:  10.0\n",
      "/Users/harty/Documents/python_code/multi_loc/notebooks/fine_time/fine_obs/stdrd_loc/inf_0001_loc_0002\n",
      "rmse_f:  0.25032237091408926\n",
      "rmse_a:  0.244925356969701\n",
      "alpha:  0.01 ; loc:  15.0\n",
      "/Users/harty/Documents/python_code/multi_loc/notebooks/fine_time/fine_obs/stdrd_loc/inf_0001_loc_0003\n",
      "/Users/harty/Documents/python_code/multi_loc/notebooks/fine_time/fine_obs/stdrd_loc/inf_0001_loc_0003  has failed.\n",
      "alpha:  0.02 ; loc:  2.0\n",
      "/Users/harty/Documents/python_code/multi_loc/notebooks/fine_time/fine_obs/stdrd_loc/inf_0002_loc_0000\n",
      "rmse_f:  0.05237642654266186\n",
      "rmse_a:  0.04635671958082895\n",
      "alpha:  0.02 ; loc:  5.0\n",
      "/Users/harty/Documents/python_code/multi_loc/notebooks/fine_time/fine_obs/stdrd_loc/inf_0002_loc_0001\n",
      "rmse_f:  0.03262966421779066\n",
      "rmse_a:  0.0298785846836674\n",
      "alpha:  0.02 ; loc:  10.0\n",
      "/Users/harty/Documents/python_code/multi_loc/notebooks/fine_time/fine_obs/stdrd_loc/inf_0002_loc_0002\n",
      "rmse_f:  0.10687013251952572\n",
      "rmse_a:  0.10272307379713633\n",
      "alpha:  0.02 ; loc:  15.0\n",
      "/Users/harty/Documents/python_code/multi_loc/notebooks/fine_time/fine_obs/stdrd_loc/inf_0002_loc_0003\n",
      "rmse_f:  0.2590862322934373\n",
      "rmse_a:  0.2534573596628769\n"
     ]
    }
   ],
   "source": [
    "importlib.reload(assimilate)\n",
    "importlib.reload(utilities)\n",
    "\n",
    "\n",
    "rmse_array_f = np.ones([alpha_range.size, loc_range.size]) * np.nan\n",
    "std_array_f = rmse_array_f.copy()\n",
    "\n",
    "rmse_array_a = rmse_array_f.copy()\n",
    "std_array_a = rmse_array_f.copy()\n",
    "\n",
    "stdrd_dir = os.path.join(tune_dir, 'stdrd_loc')\n",
    "if not os.path.exists(stdrd_dir):\n",
    "    os.mkdir(stdrd_dir)\n",
    "    \n",
    "for alpha_count, this_alpha in enumerate(alpha_range):\n",
    "    for loc_count, this_loc in enumerate(loc_range):\n",
    "        this_folder_name = f'inf_{alpha_count:04}_loc_{loc_count:04}'\n",
    "        this_dir_name = os.path.join(stdrd_dir, this_folder_name)\n",
    "        if not os.path.exists(this_dir_name):\n",
    "            os.mkdir(this_dir_name)\n",
    "        print('alpha: ', this_alpha, '; loc: ', this_loc)\n",
    "        print(this_dir_name)\n",
    "\n",
    "        rho_Zc = np.arange(Nz)\n",
    "        rho_Zc = np.minimum(np.abs(Nz - rho_Zc)%Nz, rho_Zc)\n",
    "        rho_Zc = np.exp(-(rho_Zc**2)/(2*this_loc**2))\n",
    "        rho_Zc = sp.linalg.circulant(rho_Zc)\n",
    "#         imshow(rho_Zc)\n",
    "        \n",
    "        this_path = os.path.join(this_dir_name, 'rho0z')\n",
    "        np.save(this_path, this_loc)\n",
    "        \n",
    "        this_path = os.path.join(this_dir_name, 'alpha')\n",
    "        np.save(this_path, this_alpha)\n",
    "\n",
    "        cycle_dict = {'Z0ens': Z0ens,\n",
    "                      'Zobs_ts': Zobs_ts,\n",
    "                      'Rz': Rz, 'Hz': Hz,\n",
    "                      'Tkf': Tkf,\n",
    "                      'dt_kf': dt_kf,\n",
    "                      'dt_rk': dt_trial_rk,\n",
    "                      'rho_Z': rho_Zc,\n",
    "                      'rho0_Z': this_loc,\n",
    "                      'alpha': this_alpha}\n",
    "        try:\n",
    "            returned_dict = assimilate.cycle_KF_LM3_stdrd(**cycle_dict)\n",
    "            mu_f = returned_dict['mu_f']\n",
    "            std_f = returned_dict['std_f']\n",
    "\n",
    "            mu_a = returned_dict['mu_a']\n",
    "            std_a = returned_dict['std_a']\n",
    "\n",
    "            this_path = os.path.join(this_dir_name, 'mu_f.nc')\n",
    "            mu_f.to_netcdf(this_path)\n",
    "\n",
    "            this_path = os.path.join(this_dir_name, 'std_f.nc')\n",
    "            std_f.to_netcdf(this_path)\n",
    "\n",
    "            this_path = os.path.join(this_dir_name, 'mu_a.nc')\n",
    "            mu_a.to_netcdf(this_path)\n",
    "\n",
    "            this_path = os.path.join(this_dir_name, 'std_a.nc')\n",
    "            std_a.to_netcdf(this_path)\n",
    "\n",
    "\n",
    "            rmse_array_f[alpha_count, loc_count] = (np.sqrt(\n",
    "                ((mu_f - Zgt_ts.sel(time=mu_f.time))**2).mean(axis=0))\n",
    "                                          .isel(time=slice(Tspin_index, None)).mean())\n",
    "            rmse_array_a[alpha_count, loc_count] = (np.sqrt(\n",
    "                ((mu_a - Zgt_ts.sel(time=mu_f.time))**2).mean(axis=0))\n",
    "                                          .isel(time=slice(Tspin_index, None)).mean())\n",
    "            std_array_f[alpha_count, loc_count] = (np.sqrt((std_f**2).mean(axis=0))\n",
    "                                                  .isel(time=slice(Tspin_index, None)).mean())\n",
    "            std_array_a[alpha_count, loc_count] = (np.sqrt((std_a**2).mean(axis=0))\n",
    "                                                  .isel(time=slice(Tspin_index, None)).mean())\n",
    "            print('rmse_f: ', rmse_array_f[alpha_count, loc_count])\n",
    "            print('rmse_a: ', rmse_array_a[alpha_count, loc_count])\n",
    "        except:\n",
    "            print(this_dir_name, ' has failed.')"
   ]
  },
  {
   "cell_type": "code",
   "execution_count": 15,
   "metadata": {},
   "outputs": [],
   "source": [
    "this_path = os.path.join(stdrd_dir, 'rmse_array_f.npy')\n",
    "np.save(this_path, rmse_array_f)\n",
    "\n",
    "this_path = os.path.join(stdrd_dir, 'std_array_f.npy')\n",
    "np.save(this_path, std_array_f)\n",
    "\n",
    "this_path = os.path.join(stdrd_dir, 'rmse_array_a.npy')\n",
    "np.save(this_path, rmse_array_a)\n",
    "\n",
    "this_path = os.path.join(stdrd_dir, 'std_array_a.npy')\n",
    "np.save(this_path, std_array_a)"
   ]
  },
  {
   "cell_type": "code",
   "execution_count": null,
   "metadata": {},
   "outputs": [],
   "source": []
  }
 ],
 "metadata": {
  "kernelspec": {
   "display_name": "Python 3",
   "language": "python",
   "name": "python3"
  },
  "language_info": {
   "codemirror_mode": {
    "name": "ipython",
    "version": 3
   },
   "file_extension": ".py",
   "mimetype": "text/x-python",
   "name": "python",
   "nbconvert_exporter": "python",
   "pygments_lexer": "ipython3",
   "version": "3.7.3"
  }
 },
 "nbformat": 4,
 "nbformat_minor": 2
}
