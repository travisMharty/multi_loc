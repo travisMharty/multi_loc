{
 "cells": [
  {
   "cell_type": "code",
   "execution_count": 1,
   "metadata": {},
   "outputs": [],
   "source": [
    "import importlib\n",
    "import time\n",
    "import os\n",
    "import pickle\n",
    "import glob\n",
    "import numpy as np\n",
    "import scipy as sp\n",
    "import pandas as pd\n",
    "import xarray as xr\n",
    "import matplotlib.pyplot as plt\n",
    "from scipy import ndimage\n",
    "from scipy import integrate\n",
    "from scipy import interpolate"
   ]
  },
  {
   "cell_type": "code",
   "execution_count": 2,
   "metadata": {},
   "outputs": [
    {
     "name": "stderr",
     "output_type": "stream",
     "text": [
      "/home/travisharty/anaconda3/envs/loc/lib/python3.7/site-packages/sklearn/utils/__init__.py:4: DeprecationWarning: Using or importing the ABCs from 'collections' instead of from 'collections.abc' is deprecated, and in 3.8 it will stop working\n",
      "  from collections import Sequence\n"
     ]
    }
   ],
   "source": [
    "from multi_loc import covariance, assimilate, utilities"
   ]
  },
  {
   "cell_type": "code",
   "execution_count": 3,
   "metadata": {},
   "outputs": [],
   "source": [
    "%matplotlib inline"
   ]
  },
  {
   "cell_type": "code",
   "execution_count": 4,
   "metadata": {},
   "outputs": [],
   "source": [
    "def imshow(X, title=None, vmin=None, vmax=None, cmap=None):\n",
    "    plt.figure()\n",
    "    im = plt.imshow(X, vmin=vmin, vmax=vmax, cmap=cmap)\n",
    "    plt.colorbar(im)\n",
    "    plt.title(title)"
   ]
  },
  {
   "cell_type": "code",
   "execution_count": 11,
   "metadata": {},
   "outputs": [],
   "source": [
    "tune_name = 'coarse_obs_R'\n",
    "\n",
    "save_dir = 'RK_tune'\n",
    "\n",
    "home = os.path.expanduser(\"~\")\n",
    "\n",
    "save_dir = os.path.join(\n",
    "    home,\n",
    "    'Documents/python_code/multi_loc/notebooks/',\n",
    "    save_dir)\n",
    "\n",
    "tune_dir = os.path.join(save_dir, tune_name)\n",
    "\n",
    "stdrd_dir = os.path.join(tune_dir, 'stdrd_loc')\n",
    "smooth_dir = os.path.join(tune_dir, 'smooth_loc')\n",
    "\n",
    "this_path = os.path.join(save_dir, 'Z_GT.npy')\n",
    "Zgt = np.load(this_path)\n",
    "\n",
    "this_path = os.path.join(save_dir, 'Z0_ens.npy')\n",
    "Z0ens = np.load(this_path)\n",
    "\n",
    "this_path = os.path.join(save_dir, 't_gt.npy')\n",
    "t_gt = np.load(this_path)\n",
    "\n",
    "\n",
    "this_path = os.path.join(save_dir, 'run_vars.pkl')\n",
    "with open(this_path, mode='rb') as f:\n",
    "    run_vars = pickle.load(f)"
   ]
  },
  {
   "cell_type": "code",
   "execution_count": 12,
   "metadata": {},
   "outputs": [
    {
     "name": "stdout",
     "output_type": "stream",
     "text": [
      "Nz = 960\n",
      "K = 32\n",
      "I = 12\n",
      "F = 15.0\n",
      "b = 10.0\n",
      "c = 2.5\n",
      "alpha = 0.12414383561643835\n",
      "beta = 0.013746194824961947\n",
      "coarse = 8\n",
      "Nez = 20\n",
      "Nex = 500\n",
      "dt_rk = 0.004166666666666667\n",
      "dt_lr = 0.1\n",
      "dt_gt = 0.0020833333333333333\n",
      "Tic = 24.0\n",
      "Tlr = 4000\n",
      "Tgt = 250\n"
     ]
    }
   ],
   "source": [
    "for key, value in run_vars.items():\n",
    "    print(key + ' = ' + str(value))\n",
    "    exec(key + '=value')"
   ]
  },
  {
   "cell_type": "code",
   "execution_count": 13,
   "metadata": {},
   "outputs": [
    {
     "name": "stdout",
     "output_type": "stream",
     "text": [
      "dt_trial_rk = 0.000625\n",
      "dt_kf = 0.05\n",
      "dt_save = None\n",
      "Tkf = 50.0\n",
      "Tspin = 25.0\n",
      "alpha_range = [0.   0.04 0.08 0.12 0.16]\n",
      "loc_range = [1. 2. 3. 4. 5. 6.]\n",
      "R_sd = 2\n",
      "everyH = 2\n",
      "Hz = [[1. 0. 0. ... 0. 0. 0.]\n",
      " [0. 0. 1. ... 0. 0. 0.]\n",
      " [0. 0. 0. ... 0. 0. 0.]\n",
      " ...\n",
      " [0. 0. 0. ... 0. 0. 0.]\n",
      " [0. 0. 0. ... 0. 0. 0.]\n",
      " [0. 0. 0. ... 0. 1. 0.]]\n",
      "Rz = [[4.         3.99864389 3.99457833 ... 3.98781158 3.99457833 3.99864389]\n",
      " [3.99864389 4.         3.99864389 ... 3.97835737 3.98781158 3.99457833]\n",
      " [3.99457833 3.99864389 4.         ... 3.9662349  3.97835737 3.98781158]\n",
      " ...\n",
      " [3.98781158 3.97835737 3.9662349  ... 4.         3.99864389 3.99457833]\n",
      " [3.99457833 3.98781158 3.97835737 ... 3.99864389 4.         3.99864389]\n",
      " [3.99864389 3.99457833 3.98781158 ... 3.99457833 3.99864389 4.        ]]\n"
     ]
    }
   ],
   "source": [
    "# if not os.path.exists(tune_dir):\n",
    "#     os.mkdir(tune_dir)\n",
    "\n",
    "# dt_trial_rk = 0.05/24\n",
    "# dt_kf = 0.05\n",
    "# dt_save = None\n",
    "# Tkf = Tgt/5     #### Change this\n",
    "# Tspin_index = 500\n",
    "# Tspin = dt_kf * Tspin_index\n",
    "\n",
    "# alpha_range = np.array([0, 0.01, 0.02, 0.04, 0.08], dtype='float')\n",
    "# loc_range = np.array([5, 10, 15, 20, 30, 40, 50, 60], dtype='float')\n",
    "\n",
    "\n",
    "# R_sd = 2\n",
    "# everyH = 24\n",
    "# Hz = np.eye(Nz)[::everyH]\n",
    "# Ny = Hz.shape[0]\n",
    "# Rz = np.eye(Ny) * R_sd**2\n",
    "\n",
    "# fine_obs_dict = {'dt_trial_rk': dt_trial_rk,\n",
    "#                  'dt_kf': dt_kf,\n",
    "#                  'dt_save': dt_save,\n",
    "#                  'Tkf': Tkf,\n",
    "#                  'Tspin': Tspin,\n",
    "#                  'alpha_range': alpha_range,\n",
    "#                  'loc_range': loc_range,\n",
    "#                  'R_sd': R_sd,\n",
    "#                  'Hz': Hz,\n",
    "#                  'Rz': Rz}\n",
    "\n",
    "this_path = os.path.join(tune_dir, 'KF_dict.pkl')\n",
    "with open(this_path, mode='rb') as f:\n",
    "    fine_obs_dict = pickle.load(f)\n",
    "\n",
    "for key, value in fine_obs_dict.items():\n",
    "    print(key + ' = ' + str(value))\n",
    "    exec(key + '=value')\n",
    "    \n",
    "Ny = Hz.shape[0]\n",
    "Rz = np.eye(Ny)\n",
    "\n",
    "del alpha_range, loc_range\n",
    "\n",
    "Tspin_index = int(Tspin/dt_kf)"
   ]
  },
  {
   "cell_type": "code",
   "execution_count": 14,
   "metadata": {},
   "outputs": [],
   "source": [
    "Nobs = int(Tkf/dt_kf) + 1\n",
    "t_kf = np.linspace(0, Tkf, Nobs)\n",
    "\n",
    "Ngt = int(Tgt/dt_gt) + 1\n",
    "t_gt = np.linspace(0, Tgt, Ngt)\n",
    "index_Tkf = int(Tkf/dt_gt) + 1\n",
    "\n",
    "every_t = int(dt_kf/dt_gt)\n",
    "\n",
    "if not np.allclose(t_kf, t_gt[0:index_Tkf:every_t]):\n",
    "    print('They do not match')"
   ]
  },
  {
   "cell_type": "code",
   "execution_count": 15,
   "metadata": {},
   "outputs": [],
   "source": [
    "Zloc = np.arange(Nz)\n",
    "\n",
    "Zgt_ts = xr.DataArray(Zgt[:, 0:index_Tkf:every_t],\n",
    "                      dims=('loc', 'time'),\n",
    "                      coords={'loc': Zloc,\n",
    "                              'time': t_kf})\n",
    "Zobs_ts = Zgt[::everyH, 0:index_Tkf:every_t]\n",
    "Zobs_ts = xr.DataArray(Zobs_ts,\n",
    "                       dims=('loc', 'time'),\n",
    "                       coords={'loc': Zloc[::everyH],\n",
    "                               'time': t_kf})\n",
    "del Zgt"
   ]
  },
  {
   "cell_type": "code",
   "execution_count": 27,
   "metadata": {
    "scrolled": true
   },
   "outputs": [
    {
     "name": "stdout",
     "output_type": "stream",
     "text": [
      "inf_0000_smooth_0000_floc_0000_cloc_0000\n",
      "inf_0000_smooth_0000_floc_0000_cloc_0001\n",
      "inf_0000_smooth_0000_floc_0000_cloc_0002\n",
      "inf_0000_smooth_0000_floc_0000_cloc_0003\n",
      "inf_0000_smooth_0000_floc_0001_cloc_0000\n",
      "inf_0000_smooth_0000_floc_0001_cloc_0001\n",
      "inf_0000_smooth_0000_floc_0001_cloc_0002\n",
      "inf_0000_smooth_0000_floc_0001_cloc_0003\n",
      "inf_0000_smooth_0000_floc_0002_cloc_0000\n",
      "inf_0000_smooth_0000_floc_0002_cloc_0001\n",
      "inf_0000_smooth_0000_floc_0002_cloc_0002\n",
      "inf_0000_smooth_0000_floc_0002_cloc_0003\n",
      "inf_0000_smooth_0000_floc_0003_cloc_0000\n",
      "Has Failed\n",
      "inf_0000_smooth_0000_floc_0003_cloc_0001\n",
      "Has Failed\n",
      "inf_0000_smooth_0000_floc_0003_cloc_0002\n",
      "Has Failed\n",
      "inf_0000_smooth_0000_floc_0003_cloc_0003\n",
      "inf_0000_smooth_0001_floc_0000_cloc_0000\n",
      "inf_0000_smooth_0001_floc_0000_cloc_0001\n",
      "inf_0000_smooth_0001_floc_0000_cloc_0002\n",
      "inf_0000_smooth_0001_floc_0000_cloc_0003\n",
      "inf_0000_smooth_0001_floc_0001_cloc_0000\n",
      "inf_0000_smooth_0001_floc_0001_cloc_0001\n",
      "inf_0000_smooth_0001_floc_0001_cloc_0002\n",
      "inf_0000_smooth_0001_floc_0001_cloc_0003\n",
      "inf_0000_smooth_0001_floc_0002_cloc_0000\n",
      "inf_0000_smooth_0001_floc_0002_cloc_0001\n",
      "inf_0000_smooth_0001_floc_0002_cloc_0002\n",
      "inf_0000_smooth_0001_floc_0002_cloc_0003\n",
      "inf_0000_smooth_0001_floc_0003_cloc_0000\n",
      "Has Failed\n",
      "inf_0000_smooth_0001_floc_0003_cloc_0001\n",
      "Has Failed\n",
      "inf_0000_smooth_0001_floc_0003_cloc_0002\n",
      "inf_0000_smooth_0001_floc_0003_cloc_0003\n",
      "inf_0000_smooth_0002_floc_0000_cloc_0000\n",
      "inf_0000_smooth_0002_floc_0000_cloc_0001\n",
      "inf_0000_smooth_0002_floc_0000_cloc_0002\n",
      "inf_0000_smooth_0002_floc_0000_cloc_0003\n",
      "inf_0000_smooth_0002_floc_0001_cloc_0000\n",
      "inf_0000_smooth_0002_floc_0001_cloc_0001\n",
      "inf_0000_smooth_0002_floc_0001_cloc_0002\n",
      "inf_0000_smooth_0002_floc_0001_cloc_0003\n",
      "inf_0000_smooth_0002_floc_0002_cloc_0000\n",
      "inf_0000_smooth_0002_floc_0002_cloc_0001\n",
      "inf_0000_smooth_0002_floc_0002_cloc_0002\n",
      "inf_0000_smooth_0002_floc_0002_cloc_0003\n",
      "inf_0000_smooth_0002_floc_0003_cloc_0000\n",
      "Has Failed\n",
      "inf_0000_smooth_0002_floc_0003_cloc_0001\n",
      "Has Failed\n",
      "inf_0000_smooth_0002_floc_0003_cloc_0002\n",
      "inf_0000_smooth_0002_floc_0003_cloc_0003\n",
      "inf_0000_smooth_0003_floc_0000_cloc_0000\n",
      "inf_0000_smooth_0003_floc_0000_cloc_0001\n",
      "inf_0000_smooth_0003_floc_0000_cloc_0002\n",
      "inf_0000_smooth_0003_floc_0000_cloc_0003\n",
      "inf_0000_smooth_0003_floc_0001_cloc_0000\n",
      "inf_0000_smooth_0003_floc_0001_cloc_0001\n",
      "inf_0000_smooth_0003_floc_0001_cloc_0002\n",
      "inf_0000_smooth_0003_floc_0001_cloc_0003\n",
      "inf_0000_smooth_0003_floc_0002_cloc_0000\n",
      "inf_0000_smooth_0003_floc_0002_cloc_0001\n",
      "inf_0000_smooth_0003_floc_0002_cloc_0002\n",
      "inf_0000_smooth_0003_floc_0002_cloc_0003\n",
      "inf_0000_smooth_0003_floc_0003_cloc_0000\n",
      "Has Failed\n",
      "inf_0000_smooth_0003_floc_0003_cloc_0001\n",
      "Has Failed\n"
     ]
    }
   ],
   "source": [
    "search_path = os.path.join(smooth_dir, 'inf_????_smooth_????_floc_????_cloc_????*')\n",
    "smooth_dirs = glob.glob(search_path)\n",
    "smooth_dirs.sort()\n",
    "\n",
    "smooth_rmse_f = []\n",
    "smooth_rmse_a = []\n",
    "smooth_std_f = []\n",
    "smooth_std_a = []\n",
    "\n",
    "smooth_alpha = []\n",
    "smooth_cloc = []\n",
    "smooth_floc = []\n",
    "smooth_smooth = []\n",
    "for this_dir in smooth_dirs:\n",
    "    print(os.path.split(this_dir)[1])\n",
    "    this_path = os.path.join(this_dir, 'alpha.npy')\n",
    "    smooth_alpha.append(np.load(this_path).item())\n",
    "\n",
    "    this_path = os.path.join(this_dir, 'rho0c.npy')\n",
    "    smooth_cloc.append(np.load(this_path).item())\n",
    "\n",
    "    this_path = os.path.join(this_dir, 'rho0f.npy')\n",
    "    smooth_floc.append(np.load(this_path).item())\n",
    "\n",
    "    this_path = os.path.join(this_dir, 'smooth.npy')\n",
    "    smooth_smooth.append(np.load(this_path, allow_pickle=True).item())\n",
    "    try:\n",
    "        this_path = os.path.join(this_dir, 'mu_f.nc')\n",
    "        temp_mu_f = xr.open_dataarray(this_path)\n",
    "\n",
    "        this_path = os.path.join(this_dir, 'mu_a.nc')\n",
    "        temp_mu_a = xr.open_dataarray(this_path)\n",
    "\n",
    "\n",
    "        smooth_rmse_f.append(np.sqrt(\n",
    "            ((temp_mu_f - Zgt_ts.sel(time=temp_mu_f.time))**2).mean(axis=0))\n",
    "                                      .isel(time=slice(Tspin_index, None)).mean().item())\n",
    "        smooth_rmse_a.append(np.sqrt(\n",
    "            ((temp_mu_a - Zgt_ts.sel(time=temp_mu_a.time))**2).mean(axis=0))\n",
    "                                      .isel(time=slice(Tspin_index, None)).mean().item())\n",
    "\n",
    "        this_path = os.path.join(this_dir, 'std_f.nc')\n",
    "        temp_std_f = xr.open_dataarray(this_path)\n",
    "\n",
    "        this_path = os.path.join(this_dir, 'std_a.nc')\n",
    "        temp_std_a = xr.open_dataarray(this_path)\n",
    "\n",
    "        smooth_std_f.append(np.sqrt((temp_std_f**2).mean(axis=0))\n",
    "                                              .isel(time=slice(Tspin_index, None)).mean().item())\n",
    "        smooth_std_a.append(np.sqrt((temp_std_a**2).mean(axis=0))\n",
    "                                              .isel(time=slice(Tspin_index, None)).mean().item())\n",
    "    except:\n",
    "        smooth_rmse_f.append(np.nan)\n",
    "        smooth_rmse_a.append(np.nan)\n",
    "\n",
    "\n",
    "        smooth_std_f.append(np.nan)\n",
    "        smooth_std_a.append(np.nan)\n",
    "        print('Has Failed')\n",
    "smooth_alpha = np.array(smooth_alpha)\n",
    "smooth_cloc = np.array(smooth_cloc)\n",
    "smooth_floc = np.array(smooth_floc)\n",
    "smooth_smooth = np.array(smooth_smooth)\n",
    "\n",
    "smooth_rmse_f = np.array(smooth_rmse_f)\n",
    "smooth_rmse_a = np.array(smooth_rmse_a)"
   ]
  },
  {
   "cell_type": "code",
   "execution_count": 11,
   "metadata": {},
   "outputs": [],
   "source": [
    "# smooth_alpha = smooth_alpha[:-1]\n",
    "# smooth_cloc = smooth_cloc[:-1]\n",
    "# smooth_floc = smooth_floc[:-1]\n",
    "# smooth_smooth = smooth_smooth[:-1]\n",
    "\n",
    "# smooth_alpha = np.array(smooth_alpha)\n",
    "# smooth_cloc = np.array(smooth_cloc)\n",
    "# smooth_floc = np.array(smooth_floc)\n",
    "# smooth_smooth = np.array(smooth_smooth)\n",
    "\n",
    "# smooth_rmse_f = np.array(smooth_rmse_f)\n",
    "# smooth_rmse_a = np.array(smooth_rmse_a)"
   ]
  },
  {
   "cell_type": "code",
   "execution_count": 28,
   "metadata": {
    "scrolled": true
   },
   "outputs": [
    {
     "name": "stdout",
     "output_type": "stream",
     "text": [
      "inf_0000_loc_0000\n",
      "inf_0000_loc_0001\n",
      "inf_0000_loc_0002\n",
      "Has failed\n",
      "inf_0000_loc_0003\n",
      "Has failed\n",
      "inf_0000_loc_0004\n",
      "Has failed\n",
      "inf_0000_loc_0005\n",
      "Has failed\n",
      "inf_0001_loc_0000\n",
      "inf_0001_loc_0001\n",
      "Has failed\n",
      "inf_0001_loc_0002\n",
      "Has failed\n",
      "inf_0001_loc_0003\n",
      "Has failed\n",
      "inf_0001_loc_0004\n",
      "Has failed\n",
      "inf_0001_loc_0005\n",
      "Has failed\n",
      "inf_0002_loc_0000\n",
      "inf_0002_loc_0001\n",
      "inf_0002_loc_0002\n",
      "inf_0002_loc_0003\n",
      "Has failed\n",
      "inf_0002_loc_0004\n",
      "Has failed\n",
      "inf_0002_loc_0005\n",
      "Has failed\n",
      "inf_0003_loc_0000\n",
      "inf_0003_loc_0001\n",
      "inf_0003_loc_0002\n",
      "inf_0003_loc_0003\n",
      "Has failed\n",
      "inf_0003_loc_0004\n",
      "Has failed\n",
      "inf_0003_loc_0005\n",
      "Has failed\n",
      "inf_0004_loc_0000\n",
      "inf_0004_loc_0001\n",
      "inf_0004_loc_0002\n",
      "inf_0004_loc_0003\n",
      "Has failed\n",
      "inf_0004_loc_0004\n",
      "inf_0004_loc_0005\n",
      "Has failed\n"
     ]
    }
   ],
   "source": [
    "search_path = os.path.join(stdrd_dir, 'inf_????_loc_????')\n",
    "stdrd_dirs = glob.glob(search_path)\n",
    "stdrd_dirs.sort()\n",
    "\n",
    "stdrd_rmse_f = []\n",
    "stdrd_rmse_a = []\n",
    "stdrd_std_f = []\n",
    "stdrd_std_a = []\n",
    "\n",
    "stdrd_alpha = []\n",
    "stdrd_loc = []\n",
    "for this_dir in stdrd_dirs:\n",
    "    print(os.path.split(this_dir)[1])\n",
    "    try:\n",
    "        this_path = os.path.join(this_dir, 'alpha.npy')\n",
    "        stdrd_alpha.append(np.load(this_path).item())\n",
    "\n",
    "        this_path = os.path.join(this_dir, 'rho0z.npy')\n",
    "        stdrd_loc.append(np.load(this_path).item())\n",
    "\n",
    "        this_path = os.path.join(this_dir, 'mu_f.nc')\n",
    "        temp_mu_f = xr.open_dataarray(this_path)\n",
    "\n",
    "        this_path = os.path.join(this_dir, 'mu_a.nc')\n",
    "        temp_mu_a = xr.open_dataarray(this_path)\n",
    "\n",
    "        stdrd_rmse_f.append(np.sqrt(\n",
    "            ((temp_mu_f - Zgt_ts.sel(time=temp_mu_f.time))**2).mean(axis=0))\n",
    "                                      .isel(time=slice(Tspin_index, None)).mean().item())\n",
    "        stdrd_rmse_a.append(np.sqrt(\n",
    "            ((temp_mu_a - Zgt_ts.sel(time=temp_mu_a.time))**2).mean(axis=0))\n",
    "                                      .isel(time=slice(Tspin_index, None)).mean().item())\n",
    "\n",
    "        this_path = os.path.join(this_dir, 'std_f.nc')\n",
    "        temp_std_f = xr.open_dataarray(this_path)\n",
    "\n",
    "        this_path = os.path.join(this_dir, 'std_a.nc')\n",
    "        temp_std_a = xr.open_dataarray(this_path)\n",
    "\n",
    "        stdrd_std_f.append(np.sqrt((temp_std_f**2).mean(axis=0))\n",
    "                                              .isel(time=slice(Tspin_index, None)).mean().item())\n",
    "        stdrd_std_a.append(np.sqrt((temp_std_a**2).mean(axis=0))\n",
    "                                              .isel(time=slice(Tspin_index, None)).mean().item())\n",
    "    except:\n",
    "        stdrd_rmse_f.append(np.nan)\n",
    "        stdrd_rmse_a.append(np.nan)\n",
    "\n",
    "        stdrd_std_f.append(np.nan)\n",
    "        stdrd_std_a.append(np.nan)\n",
    "        print('Has failed')\n",
    "\n",
    "stdrd_alpha = np.array(stdrd_alpha)\n",
    "stdrd_loc = np.array(stdrd_loc)\n",
    "\n",
    "stdrd_rmse_f = np.array(stdrd_rmse_f)\n",
    "stdrd_rmse_a = np.array(stdrd_rmse_a)"
   ]
  },
  {
   "cell_type": "code",
   "execution_count": 19,
   "metadata": {},
   "outputs": [],
   "source": [
    "# stdrd_alpha = stdrd_alpha[:-1]\n",
    "# stdrd_loc = stdrd_loc[:-1]\n",
    "\n",
    "# stdrd_alpha = np.array(stdrd_alpha)\n",
    "# stdrd_loc = np.array(stdrd_loc)\n",
    "\n",
    "# stdrd_rmse_f = np.array(stdrd_rmse_f)\n",
    "# stdrd_rmse_a = np.array(stdrd_rmse_a)"
   ]
  },
  {
   "cell_type": "code",
   "execution_count": 32,
   "metadata": {},
   "outputs": [
    {
     "data": {
      "text/plain": [
       "array([4.20328958e+00, 4.86649999e+00, 4.20298547e+00, 7.08199561e-01,\n",
       "       4.82928339e+00, 5.84746442e+00, 5.93973446e+00, 1.76777502e-01,\n",
       "       4.83531167e+00, 5.85612966e+00, 5.89401611e+00, 2.84732256e-03,\n",
       "                  nan,            nan,            nan, 3.60633317e-03,\n",
       "       5.06357201e+00, 6.18677419e+00, 5.01048951e+00, 2.00475247e+00,\n",
       "       9.58927805e-01, 6.47880184e+00, 5.70737730e+00, 1.74588976e+00,\n",
       "       5.90804352e-01, 6.39074098e+00, 7.49060859e+00, 1.14494447e+00,\n",
       "                  nan,            nan, 6.55522111e+00, 4.30633846e+00,\n",
       "       4.23436868e+00, 3.70780279e+00, 3.17921471e+00, 3.01926971e+00,\n",
       "       1.36108194e+00, 3.58554599e+00, 2.64420544e+00, 1.47098937e+00,\n",
       "       3.58375171e+00, 8.54059991e-01, 1.88138600e+00, 1.45310934e+00,\n",
       "                  nan,            nan, 4.86596091e+00, 1.89853304e+00,\n",
       "       3.06733745e+00, 2.65905952e+00, 3.16787698e+00, 2.78246223e+00,\n",
       "       8.62223292e-01, 8.81567068e-01, 1.04928186e+00, 6.72298578e-01,\n",
       "       2.63450669e+00, 4.80815771e-01, 8.15419170e-01, 6.65197869e-01,\n",
       "                  nan,            nan])"
      ]
     },
     "execution_count": 32,
     "metadata": {},
     "output_type": "execute_result"
    }
   ],
   "source": [
    "smooth_rmse_f "
   ]
  },
  {
   "cell_type": "code",
   "execution_count": 31,
   "metadata": {},
   "outputs": [
    {
     "name": "stdout",
     "output_type": "stream",
     "text": [
      "[4.20328958e+00 4.86649999e+00 4.20298547e+00 7.08199561e-01\n",
      " 4.82928339e+00 5.84746442e+00 5.93973446e+00 1.76777502e-01\n",
      " 4.83531167e+00 5.85612966e+00 5.89401611e+00 2.84732256e-03\n",
      " 0.00000000e+00 0.00000000e+00 0.00000000e+00 3.60633317e-03\n",
      " 5.06357201e+00 6.18677419e+00 5.01048951e+00 2.00475247e+00\n",
      " 9.58927805e-01 6.47880184e+00 5.70737730e+00 1.74588976e+00\n",
      " 5.90804352e-01 6.39074098e+00 7.49060859e+00 1.14494447e+00\n",
      " 0.00000000e+00 0.00000000e+00 6.55522111e+00 4.30633846e+00\n",
      " 4.23436868e+00 3.70780279e+00 3.17921471e+00 3.01926971e+00\n",
      " 1.36108194e+00 3.58554599e+00 2.64420544e+00 1.47098937e+00\n",
      " 3.58375171e+00 8.54059991e-01 1.88138600e+00 1.45310934e+00\n",
      " 0.00000000e+00 0.00000000e+00 4.86596091e+00 1.89853304e+00\n",
      " 3.06733745e+00 2.65905952e+00 3.16787698e+00 2.78246223e+00\n",
      " 8.62223292e-01 8.81567068e-01 1.04928186e+00 6.72298578e-01\n",
      " 2.63450669e+00 4.80815771e-01 8.15419170e-01 6.65197869e-01\n",
      " 0.00000000e+00 0.00000000e+00]\n"
     ]
    }
   ],
   "source": [
    "print(np.nan_to_num(smooth_rmse_f))"
   ]
  },
  {
   "cell_type": "code",
   "execution_count": 33,
   "metadata": {},
   "outputs": [
    {
     "data": {
      "text/plain": [
       "array([False, False, False, False, False, False, False, False, False,\n",
       "       False, False, False,  True,  True,  True, False, False, False,\n",
       "       False, False, False, False, False, False, False, False, False,\n",
       "       False,  True,  True, False, False, False, False, False, False,\n",
       "       False, False, False, False, False, False, False, False,  True,\n",
       "        True, False, False, False, False, False, False, False, False,\n",
       "       False, False, False, False, False, False,  True,  True])"
      ]
     },
     "execution_count": 33,
     "metadata": {},
     "output_type": "execute_result"
    }
   ],
   "source": [
    "np.isnan(smooth_rmse_f)"
   ]
  },
  {
   "cell_type": "code",
   "execution_count": 35,
   "metadata": {},
   "outputs": [
    {
     "name": "stdout",
     "output_type": "stream",
     "text": [
      "Smoothing method\n",
      "Min forecast rmse of: 0.002847\n",
      "With coarse loc: 40\n",
      "fine loc: 2.0\n",
      "smoothing dist: 16\n",
      "alpha: 0.08\n",
      "\n",
      "Min anlysis rmse of: 0.002452\n",
      "With coarse loc: 40\n",
      "fine loc: 2.0\n",
      "smoothing dist: 16\n",
      "alpha: 0.08\n",
      "\n",
      "Standard method\n",
      "Min forecast rmse of: 0.0006103\n",
      "With loc: 3.0\n",
      "alpha: 0.12\n",
      "\n",
      "Min anlysis rmse of: 0.000506\n",
      "With loc: 3.0\n",
      "alpha: 0.12\n",
      "\n",
      "This is a -366.52% improvement for forecasts\n",
      "This is a -384.54% improvement for analysis\n"
     ]
    }
   ],
   "source": [
    "smooth_index_f = np.nanargmin(smooth_rmse_f)\n",
    "smooth_index_a = np.nanargmin(smooth_rmse_a)\n",
    "\n",
    "stdrd_index_f = np.nanargmin(stdrd_rmse_f)\n",
    "stdrd_index_a = np.nanargmin(stdrd_rmse_a)\n",
    "\n",
    "print('Smoothing method')\n",
    "print(f'Min forecast rmse of: {smooth_rmse_f[smooth_index_f]:0.4}')\n",
    "print(f'With coarse loc: {smooth_cloc[smooth_index_f]}')\n",
    "print(f'fine loc: {smooth_floc[smooth_index_f]}')\n",
    "print(f'smoothing dist: {smooth_smooth[smooth_index_f]}')\n",
    "print(f'alpha: {smooth_alpha[smooth_index_f]}')\n",
    "print()\n",
    "print(f'Min anlysis rmse of: {smooth_rmse_a[smooth_index_a]:0.4}')\n",
    "print(f'With coarse loc: {smooth_cloc[smooth_index_a]}')\n",
    "print(f'fine loc: {smooth_floc[smooth_index_a]}')\n",
    "print(f'smoothing dist: {smooth_smooth[smooth_index_a]}')\n",
    "print(f'alpha: {smooth_alpha[smooth_index_a]}')\n",
    "\n",
    "print()\n",
    "print('Standard method')\n",
    "print(f'Min forecast rmse of: {stdrd_rmse_f[stdrd_index_f]:0.4}')\n",
    "print(f'With loc: {stdrd_loc[stdrd_index_f]}')\n",
    "print(f'alpha: {stdrd_alpha[stdrd_index_f]}')\n",
    "print()\n",
    "print(f'Min anlysis rmse of: {stdrd_rmse_a[stdrd_index_a]:0.4}')\n",
    "print(f'With loc: {stdrd_loc[stdrd_index_a]}')\n",
    "print(f'alpha: {stdrd_alpha[stdrd_index_a]}')\n",
    "\n",
    "sm_f = smooth_rmse_f[smooth_index_f]\n",
    "sm_a = smooth_rmse_a[smooth_index_a]\n",
    "\n",
    "stdrd_f = stdrd_rmse_f[stdrd_index_f]\n",
    "stdrd_a = stdrd_rmse_a[stdrd_index_a]\n",
    "print()\n",
    "print(f'This is a {100*(stdrd_f - sm_f)/(stdrd_f):0.2f}% improvement for forecasts')\n",
    "print(f'This is a {100*(stdrd_a - sm_a)/(stdrd_a):0.2f}% improvement for analysis')"
   ]
  },
  {
   "cell_type": "code",
   "execution_count": 37,
   "metadata": {
    "scrolled": false
   },
   "outputs": [
    {
     "data": {
      "image/png": "[encoded data removed]",
      "text/plain": [
       "<Figure size 432x288 with 2 Axes>"
      ]
     },
     "metadata": {},
     "output_type": "display_data"
    },
    {
     "data": {
      "image/png": "[encoded data removed]",
      "text/plain": [
       "<Figure size 432x288 with 2 Axes>"
      ]
     },
     "metadata": {},
     "output_type": "display_data"
    }
   ],
   "source": [
    "plt.figure()\n",
    "im = plt.scatter(stdrd_loc, stdrd_rmse_f, c=stdrd_alpha)\n",
    "cbar = plt.colorbar(im)\n",
    "plt.scatter(stdrd_loc[stdrd_index_f],\n",
    "            stdrd_rmse_f[stdrd_index_f], marker='*', c='r')\n",
    "plt.ylabel('forecast RMSE')\n",
    "plt.xlabel('loc')\n",
    "cbar.set_label('alpha')\n",
    "\n",
    "plt.figure()\n",
    "im = plt.scatter(stdrd_loc, stdrd_rmse_f, c=stdrd_alpha)\n",
    "cbar = plt.colorbar(im)\n",
    "plt.scatter(stdrd_loc[stdrd_index_f],\n",
    "            stdrd_rmse_f[stdrd_index_f], marker='*', c='r')\n",
    "plt.xlim([0, 20])\n",
    "plt.ylim([0, 0.9])\n",
    "plt.ylabel('forecast RMSE')\n",
    "plt.xlabel('loc')\n",
    "cbar.set_label('alpha')"
   ]
  },
  {
   "cell_type": "code",
   "execution_count": 38,
   "metadata": {},
   "outputs": [],
   "source": [
    "%matplotlib inline"
   ]
  },
  {
   "cell_type": "code",
   "execution_count": 39,
   "metadata": {},
   "outputs": [
    {
     "data": {
      "image/png": "[encoded data removed]",
      "text/plain": [
       "<Figure size 432x288 with 2 Axes>"
      ]
     },
     "metadata": {},
     "output_type": "display_data"
    }
   ],
   "source": [
    "plt.figure()\n",
    "im = plt.scatter(stdrd_loc, stdrd_rmse_f, c=stdrd_alpha)\n",
    "cbar = plt.colorbar(im)\n",
    "plt.scatter(stdrd_loc[stdrd_index_f],\n",
    "            stdrd_rmse_f[stdrd_index_f], marker='*', c='r')\n",
    "plt.ylabel('forecast RMSE')\n",
    "plt.xlabel('loc')\n",
    "cbar.set_label('alpha')"
   ]
  },
  {
   "cell_type": "code",
   "execution_count": 40,
   "metadata": {},
   "outputs": [
    {
     "data": {
      "image/png": "[encoded data removed]",
      "text/plain": [
       "<Figure size 432x288 with 2 Axes>"
      ]
     },
     "metadata": {},
     "output_type": "display_data"
    },
    {
     "data": {
      "image/png": "[encoded data removed]",
      "text/plain": [
       "<Figure size 432x288 with 2 Axes>"
      ]
     },
     "metadata": {},
     "output_type": "display_data"
    },
    {
     "data": {
      "image/png": "[encoded data removed]",
      "text/plain": [
       "<Figure size 432x288 with 2 Axes>"
      ]
     },
     "metadata": {},
     "output_type": "display_data"
    }
   ],
   "source": [
    "smooth_mask = smooth_smooth == smooth_smooth[smooth_index_f]\n",
    "cloc_mask = smooth_cloc == smooth_cloc[smooth_index_f]\n",
    "floc_mask = smooth_floc == smooth_floc[smooth_index_f]\n",
    "\n",
    "plt.figure()\n",
    "im = plt.scatter(smooth_cloc[smooth_mask],\n",
    "                 smooth_rmse_f[smooth_mask],\n",
    "                 c=smooth_floc[smooth_mask])\n",
    "cbar = plt.colorbar(im)\n",
    "plt.ylabel('RMSE')\n",
    "plt.xlabel('coarse loc')\n",
    "cbar.set_label('fine loc')\n",
    "\n",
    "plt.figure()\n",
    "im = plt.scatter(smooth_smooth[cloc_mask],\n",
    "                 smooth_rmse_f[cloc_mask],\n",
    "                 c=smooth_floc[cloc_mask])\n",
    "cbar = plt.colorbar(im)\n",
    "# plt.scatter(stdrd_loc[stdrd_index_f],\n",
    "#             stdrd_rmse_f[stdrd_index_f], marker='*', c='r')\n",
    "plt.ylabel('RMSE')\n",
    "plt.xlabel('smooth length')\n",
    "cbar.set_label('fine loc')\n",
    "\n",
    "plt.figure()\n",
    "im = plt.scatter(smooth_smooth[floc_mask],\n",
    "                 smooth_rmse_f[floc_mask],\n",
    "                 c=smooth_cloc[floc_mask])\n",
    "cbar = plt.colorbar(im)\n",
    "# plt.scatter(stdrd_loc[stdrd_index_f],\n",
    "#             stdrd_rmse_f[stdrd_index_f], marker='*', c='r')\n",
    "plt.ylabel('RMSE')\n",
    "plt.xlabel('smooth length')\n",
    "cbar.set_label('coarse loc')"
   ]
  },
  {
   "cell_type": "code",
   "execution_count": null,
   "metadata": {},
   "outputs": [],
   "source": []
  },
  {
   "cell_type": "code",
   "execution_count": null,
   "metadata": {},
   "outputs": [],
   "source": []
  }
 ],
 "metadata": {
  "kernelspec": {
   "display_name": "Python 3",
   "language": "python",
   "name": "python3"
  },
  "language_info": {
   "codemirror_mode": {
    "name": "ipython",
    "version": 3
   },
   "file_extension": ".py",
   "mimetype": "text/x-python",
   "name": "python",
   "nbconvert_exporter": "python",
   "pygments_lexer": "ipython3",
   "version": "3.7.2"
  }
 },
 "nbformat": 4,
 "nbformat_minor": 2
}
