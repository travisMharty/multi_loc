{
 "cells": [
  {
   "cell_type": "markdown",
   "metadata": {},
   "source": [
    "This notebook looks at the Lorenz Model III as described in Lorenz, 2005.\n",
    "This model has a long and short scale that interact with eachother.\n",
    "The state variable is $Z$ and contains both scales.\n",
    "$Z$ is smoothed using a window defined by $I$ and weights defined by $\\alpha$ and $\\beta$, generating the variable $X$ which contains the long scales.\n",
    "The variable $Y$ contains the short scales and is equal to $Z - X$.\n",
    "\n",
    "The time derivative of $Z$ is very simmilar to the Lorenz-96 model:\n",
    "$$\n",
    "d Z_n/dt = [X, X]_{K, n} + b^2 [Y, Y]_{1, n} + c[Y, X]_{1, n} - X_n - bY_n + F\n",
    "$$\n",
    "$$\n",
    "X_n = \\sum_{i = -I}^I (\\alpha - \\beta |i|) Z_{n + i}\n",
    "$$\n",
    "Where the above has the first and last terms divided by 2.\n",
    "$$\n",
    "Y_n = Z_n - X_n\n",
    "$$\n",
    "$$\n",
    "[X, Y]_{K, n} = \\sum_{j=-J}^{J}\\sum_{i=-J}^{J}( -X_{n - 2K - i}Y_{n-K-j} + X_{n - K + j - i}Y_{n + K + j})/K^2\n",
    "$$\n",
    "For an odd $K$, $J = (K-1)/2$.\n",
    "For an even $K$, $J=K/2$ and the above two sums have the first and last terms divided by 2.\n",
    "\n",
    "In order to make this model work with a coarse model (too coarse to capture the behavior of $Y$) I estimate the terms involving $Y$ using the fine ensemble.\n",
    "Therefore, the fine ensemble effects the coarse ensemble (each fine ensemble member effects multiple coarse ensemble members), but the coarse ensemble does not effect the fine ensemble."
   ]
  },
  {
   "cell_type": "code",
   "execution_count": 1,
   "metadata": {},
   "outputs": [],
   "source": [
    "import importlib\n",
    "import time\n",
    "import os\n",
    "import pickle\n",
    "import numpy as np\n",
    "import scipy as sp\n",
    "import matplotlib.pyplot as plt\n",
    "from scipy import ndimage\n",
    "from scipy import integrate\n",
    "from scipy import interpolate"
   ]
  },
  {
   "cell_type": "code",
   "execution_count": 2,
   "metadata": {},
   "outputs": [],
   "source": [
    "from multi_loc import covariance, assimilate, utilities"
   ]
  },
  {
   "cell_type": "code",
   "execution_count": 3,
   "metadata": {},
   "outputs": [],
   "source": [
    "%matplotlib inline"
   ]
  },
  {
   "cell_type": "code",
   "execution_count": 4,
   "metadata": {},
   "outputs": [],
   "source": [
    "def imshow(X, title=None, vmin=None, vmax=None, cmap=None):\n",
    "    plt.figure()\n",
    "    im = plt.imshow(X, vmin=vmin, vmax=vmax, cmap=cmap)\n",
    "    plt.colorbar(im)\n",
    "    plt.title(title)"
   ]
  },
  {
   "cell_type": "code",
   "execution_count": 6,
   "metadata": {},
   "outputs": [],
   "source": [
    "load_files = True"
   ]
  },
  {
   "cell_type": "code",
   "execution_count": 12,
   "metadata": {},
   "outputs": [],
   "source": [
    "N_Z = 960\n",
    "K = 32\n",
    "I = 12\n",
    "F = float(15)\n",
    "b = float(10)\n",
    "# b = float(7)\n",
    "c = float(2.5)\n",
    "alpha = (3 * I**2 + 3) / (2 * I**3 + 4 * I)\n",
    "beta = (2 * I**2 + 1) / (I**4 + 2 * I**2)\n",
    "\n",
    "coarse = 8\n",
    "N_Xc = N_Z//coarse\n",
    "K_c = K//coarse\n",
    "\n",
    "N_eZ = 20\n",
    "N_eX = 500\n",
    "save_dir = 'fine_time'\n",
    "home = os.path.expanduser('~')\n",
    "save_dir = os.path.join(\n",
    "    home,\n",
    "    'Documents/python_code/multi_loc/notebooks/',\n",
    "    save_dir)\n",
    "\n",
    "dt_gt = 0.005/8\n",
    "\n",
    "dt_kf = 0.005\n",
    "gt_cycles = 5000\n",
    "T_gt = dt_kf * gt_cycles\n",
    "\n",
    "t_gt = np.linspace(0, T_gt, int(T_gt/dt_gt) + 1)\n",
    "t_lr = np.linspace(0, T_lr, int(T_lr/dt_lr) + 1)\n",
    "\n",
    "if not os.path.exists(save_dir):\n",
    "    os.mkdir(save_dir)\n",
    "\n",
    "this_path = os.path.join(save_dir, 't_gt')\n",
    "np.save(this_path, t_gt)"
   ]
  },
  {
   "cell_type": "code",
   "execution_count": 16,
   "metadata": {},
   "outputs": [],
   "source": [
    "run_vars = {'Nz': N_Z,\n",
    "            'K': K,\n",
    "            'I': I,\n",
    "            'F': F,\n",
    "            'b': b,\n",
    "            'c': c,\n",
    "            'alpha': alpha,\n",
    "            'beta': beta,\n",
    "            'coarse': coarse,\n",
    "            'Nez': N_eZ,\n",
    "            'Nex': N_eX,\n",
    "            'dt_gt': dt_gt,\n",
    "            'Tgt': T_gt\n",
    "            }\n",
    "this_path = os.path.join(save_dir, 'run_vars.pkl')\n",
    "with open(this_path, mode='wb') as f:\n",
    "    pickle.dump(run_vars, f)"
   ]
  },
  {
   "cell_type": "markdown",
   "metadata": {},
   "source": [
    "# Generate Truth run"
   ]
  },
  {
   "cell_type": "code",
   "execution_count": 29,
   "metadata": {},
   "outputs": [],
   "source": [
    "X_interp = np.random.uniform(low=-5, high=10, size=N_Z//K)\n",
    "X_interp = np.concatenate([X_interp, [X_interp[0]]])\n",
    "x = np.arange(N_Z)\n",
    "x_interp = x[::K]\n",
    "x_interp = np.concatenate([x_interp, [x[-1] + 1]])\n",
    "f_X = interpolate.interp1d(x_interp, X_interp, kind='quadratic')\n",
    "X0 = f_X(x)\n",
    "\n",
    "Y0 = np.random.uniform(low=-0.5, high=1, size=N_Z)\n",
    "\n",
    "Z0 = X0 + X0*Y0/X0.max()\n",
    "\n",
    "# t = np.linspace(0, 20, 100)\n",
    "\n",
    "Z = utilities.return_LM3_data(\n",
    "    Z0, dt_rk, T_ic, dt_rk, K=K, I=I, F=F, b=b, c=c)\n",
    "\n",
    "Z0 = Z[:, -1]"
   ]
  },
  {
   "cell_type": "code",
   "execution_count": 17,
   "metadata": {},
   "outputs": [],
   "source": [
    "this_path = os.path.join(\n",
    "    home,\n",
    "    'Documents/python_code/multi_loc/notebooks/RK_tune',\n",
    "    'Z_GT.npy'\n",
    ")\n",
    "Z0 = np.load(this_path)[:, 0]"
   ]
  },
  {
   "cell_type": "code",
   "execution_count": 21,
   "metadata": {},
   "outputs": [],
   "source": [
    "Z_GT = utilities.return_LM3_data(\n",
    "    Z0, dt_gt, T_gt, dt_gt, K=K, I=I, F=F, b=b, c=c)\n",
    "\n",
    "this_path = os.path.join(save_dir, 'Z_GT')\n",
    "np.save(this_path, Z_GT)\n",
    "# Z_GT = np.load('./Z_GT.npy')"
   ]
  },
  {
   "cell_type": "code",
   "execution_count": null,
   "metadata": {},
   "outputs": [],
   "source": []
  }
 ],
 "metadata": {
  "kernelspec": {
   "display_name": "Python 3",
   "language": "python",
   "name": "python3"
  },
  "language_info": {
   "codemirror_mode": {
    "name": "ipython",
    "version": 3
   },
   "file_extension": ".py",
   "mimetype": "text/x-python",
   "name": "python",
   "nbconvert_exporter": "python",
   "pygments_lexer": "ipython3",
   "version": "3.7.3"
  }
 },
 "nbformat": 4,
 "nbformat_minor": 2
}
