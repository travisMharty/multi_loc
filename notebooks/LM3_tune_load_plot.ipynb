{
 "cells": [
  {
   "cell_type": "code",
   "execution_count": 36,
   "metadata": {},
   "outputs": [],
   "source": [
    "import importlib\n",
    "import time\n",
    "import os\n",
    "import pickle\n",
    "import numpy as np\n",
    "import scipy as sp\n",
    "import pandas as pd\n",
    "import xarray as xr\n",
    "import matplotlib.pyplot as plt\n",
    "from scipy import ndimage\n",
    "from scipy import integrate\n",
    "from scipy import interpolate"
   ]
  },
  {
   "cell_type": "code",
   "execution_count": 37,
   "metadata": {},
   "outputs": [],
   "source": [
    "from multi_loc import covariance, assimilate, utilities"
   ]
  },
  {
   "cell_type": "code",
   "execution_count": 38,
   "metadata": {},
   "outputs": [],
   "source": [
    "%matplotlib inline"
   ]
  },
  {
   "cell_type": "code",
   "execution_count": 39,
   "metadata": {},
   "outputs": [],
   "source": [
    "def imshow(X, title=None, vmin=None, vmax=None, cmap=None):\n",
    "    plt.figure()\n",
    "    im = plt.imshow(X, vmin=vmin, vmax=vmax, cmap=cmap)\n",
    "    plt.colorbar(im)\n",
    "    plt.title(title)"
   ]
  },
  {
   "cell_type": "code",
   "execution_count": 45,
   "metadata": {},
   "outputs": [],
   "source": [
    "tune_name = 'fine_obs'\n",
    "\n",
    "save_dir = 'RK_tune'\n",
    "\n",
    "loc_style = 'stdrd_loc'\n",
    "\n",
    "\n",
    "save_dir = os.path.join(\n",
    "    '/home/travisharty/Documents/python_code/multi_loc/notebooks/',\n",
    "    save_dir)\n",
    "    \n",
    "this_path = os.path.join(save_dir, 'Z_GT.npy')\n",
    "Zgt = np.load(this_path)\n",
    "\n",
    "this_path = os.path.join(save_dir, 'Z0_ens.npy')\n",
    "Z0ens = np.load(this_path)\n",
    "\n",
    "this_path = os.path.join(save_dir, 't_gt.npy')\n",
    "t_gt = np.load(this_path)\n",
    "\n",
    "this_path = os.path.join(save_dir, 't_lr.npy')\n",
    "t_lr = np.load(this_path)\n",
    "\n",
    "this_path = os.path.join(save_dir, 'run_vars.pkl')\n",
    "with open(this_path, mode='rb') as f:\n",
    "    run_vars = pickle.load(f)"
   ]
  },
  {
   "cell_type": "code",
   "execution_count": 41,
   "metadata": {},
   "outputs": [
    {
     "name": "stdout",
     "output_type": "stream",
     "text": [
      "Nz = 960\n",
      "K = 32\n",
      "I = 12\n",
      "F = 15.0\n",
      "b = 10.0\n",
      "c = 2.5\n",
      "alpha = 0.12414383561643835\n",
      "beta = 0.013746194824961947\n",
      "coarse = 8\n",
      "Nez = 20\n",
      "Nex = 500\n",
      "dt_rk = 0.004166666666666667\n",
      "dt_lr = 0.1\n",
      "dt_gt = 0.0020833333333333333\n",
      "Tic = 24.0\n",
      "Tlr = 4000\n",
      "Tgt = 250\n"
     ]
    }
   ],
   "source": [
    "for key, value in run_vars.items():\n",
    "    print(key + ' = ' + str(value))\n",
    "    exec(key + '=value')"
   ]
  },
  {
   "cell_type": "code",
   "execution_count": 42,
   "metadata": {},
   "outputs": [
    {
     "name": "stdout",
     "output_type": "stream",
     "text": [
      "dt_trial_rk = 0.0020833333333333333\n",
      "dt_kf = 0.05\n",
      "dt_save = None\n",
      "Tkf = 50.0\n",
      "Tspin = 25.0\n",
      "alpha_range = [0.   0.01 0.02 0.04 0.08]\n",
      "loc_range = [ 5. 10. 15. 20. 30. 40. 50. 60.]\n",
      "R_sd = 2\n",
      "everyH = 24\n",
      "Hz = [[1. 0. 0. ... 0. 0. 0.]\n",
      " [0. 0. 0. ... 0. 0. 0.]\n",
      " [0. 0. 0. ... 0. 0. 0.]\n",
      " ...\n",
      " [0. 0. 0. ... 0. 0. 0.]\n",
      " [0. 0. 0. ... 0. 0. 0.]\n",
      " [0. 0. 0. ... 0. 0. 0.]]\n",
      "Rz = [[4. 0. 0. ... 0. 0. 0.]\n",
      " [0. 4. 0. ... 0. 0. 0.]\n",
      " [0. 0. 4. ... 0. 0. 0.]\n",
      " ...\n",
      " [0. 0. 0. ... 4. 0. 0.]\n",
      " [0. 0. 0. ... 0. 4. 0.]\n",
      " [0. 0. 0. ... 0. 0. 4.]]\n"
     ]
    }
   ],
   "source": [
    "tune_dir = os.path.join(save_dir, tune_name)\n",
    "# if not os.path.exists(tune_dir):\n",
    "#     os.mkdir(tune_dir)\n",
    "\n",
    "# dt_trial_rk = 0.05/24\n",
    "# dt_kf = 0.05\n",
    "# dt_save = None\n",
    "# Tkf = Tgt/5     #### Change this\n",
    "# Tspin_index = 500\n",
    "# Tspin = dt_kf * Tspin_index\n",
    "\n",
    "# alpha_range = np.array([0, 0.01, 0.02, 0.04, 0.08], dtype='float')\n",
    "# loc_range = np.array([5, 10, 15, 20, 30, 40, 50, 60], dtype='float')\n",
    "\n",
    "\n",
    "# R_sd = 2\n",
    "# everyH = 24\n",
    "# Hz = np.eye(Nz)[::everyH]\n",
    "# Ny = Hz.shape[0]\n",
    "# Rz = np.eye(Ny) * R_sd**2\n",
    "\n",
    "# fine_obs_dict = {'dt_trial_rk': dt_trial_rk,\n",
    "#                  'dt_kf': dt_kf,\n",
    "#                  'dt_save': dt_save,\n",
    "#                  'Tkf': Tkf,\n",
    "#                  'Tspin': Tspin,\n",
    "#                  'alpha_range': alpha_range,\n",
    "#                  'loc_range': loc_range,\n",
    "#                  'R_sd': R_sd,\n",
    "#                  'Hz': Hz,\n",
    "#                  'Rz': Rz}\n",
    "\n",
    "this_path = os.path.join(tune_dir, 'fine_obs_dict.pkl')\n",
    "with open(this_path, mode='rb') as f:\n",
    "    fine_obs_dict = pickle.load(f)\n",
    "\n",
    "for key, value in fine_obs_dict.items():\n",
    "    print(key + ' = ' + str(value))\n",
    "    exec(key + '=value')\n",
    "    \n",
    "Ny = Hz.shape[0]\n",
    "Rz = np.eye(Ny)"
   ]
  },
  {
   "cell_type": "code",
   "execution_count": 43,
   "metadata": {},
   "outputs": [],
   "source": [
    "Nobs = int(Tkf/dt_kf) + 1\n",
    "t_kf = np.linspace(0, Tkf, Nobs)\n",
    "\n",
    "Ngt = int(Tgt/dt_gt) + 1\n",
    "t_gt = np.linspace(0, Tgt, Ngt)\n",
    "index_Tkf = int(Tkf/dt_gt) + 1\n",
    "\n",
    "every_t = int(dt_kf/dt_gt)\n",
    "\n",
    "if not np.allclose(t_kf, t_gt[0:index_Tkf:every_t]):\n",
    "    print('They do not match')"
   ]
  },
  {
   "cell_type": "code",
   "execution_count": 46,
   "metadata": {},
   "outputs": [],
   "source": [
    "Zloc = np.arange(Nz)\n",
    "\n",
    "Zgt_ts = xr.DataArray(Zgt[:, 0:index_Tkf:every_t],\n",
    "                      dims=('loc', 'time'),\n",
    "                      coords={'loc': Zloc,\n",
    "                              'time': t_kf})\n",
    "Zobs_ts = Zgt[::everyH, 0:index_Tkf:every_t]\n",
    "Zobs_ts = xr.DataArray(Zobs_ts,\n",
    "                       dims=('loc', 'time'),\n",
    "                       coords={'loc': Zloc[::everyH],\n",
    "                               'time': t_kf})\n",
    "del Zgt"
   ]
  },
  {
   "cell_type": "code",
   "execution_count": 48,
   "metadata": {
    "scrolled": true
   },
   "outputs": [
    {
     "name": "stdout",
     "output_type": "stream",
     "text": [
      "alpha:  0.0 ; loc:  5.0\n",
      "alpha_count:  0 : loc_count:  0\n",
      "RK_tune/fine_obs/stdrd_loc/inf_0000_loc_0000/mu_f.nc\n",
      "RK_tune/fine_obs/stdrd_loc/inf_0000_loc_0000/mu_a.nc\n",
      "alpha:  0.0 ; loc:  10.0\n",
      "alpha_count:  0 : loc_count:  1\n",
      "RK_tune/fine_obs/stdrd_loc/inf_0000_loc_0001/mu_f.nc\n",
      "RK_tune/fine_obs/stdrd_loc/inf_0000_loc_0001/mu_a.nc\n",
      "alpha:  0.0 ; loc:  15.0\n",
      "alpha_count:  0 : loc_count:  2\n",
      "RK_tune/fine_obs/stdrd_loc/inf_0000_loc_0002/mu_f.nc\n",
      "RK_tune/fine_obs/stdrd_loc/inf_0000_loc_0002/mu_a.nc\n",
      "alpha:  0.0 ; loc:  20.0\n",
      "alpha_count:  0 : loc_count:  3\n",
      "RK_tune/fine_obs/stdrd_loc/inf_0000_loc_0003/mu_f.nc\n",
      "RK_tune/fine_obs/stdrd_loc/inf_0000_loc_0003/mu_a.nc\n",
      "alpha:  0.0 ; loc:  30.0\n",
      "alpha_count:  0 : loc_count:  4\n",
      "RK_tune/fine_obs/stdrd_loc/inf_0000_loc_0004/mu_f.nc\n",
      "RK_tune/fine_obs/stdrd_loc/inf_0000_loc_0004/mu_a.nc\n",
      "alpha:  0.0 ; loc:  40.0\n",
      "alpha_count:  0 : loc_count:  5\n",
      "RK_tune/fine_obs/stdrd_loc/inf_0000_loc_0005/mu_f.nc\n",
      "RK_tune/fine_obs/stdrd_loc/inf_0000_loc_0005/mu_a.nc\n",
      "alpha:  0.0 ; loc:  50.0\n",
      "alpha_count:  0 : loc_count:  6\n",
      "RK_tune/fine_obs/stdrd_loc/inf_0000_loc_0006/mu_f.nc\n",
      "RK_tune/fine_obs/stdrd_loc/inf_0000_loc_0006/mu_a.nc\n",
      "alpha:  0.0 ; loc:  60.0\n",
      "alpha_count:  0 : loc_count:  7\n",
      "RK_tune/fine_obs/stdrd_loc/inf_0000_loc_0007/mu_f.nc\n",
      "RK_tune/fine_obs/stdrd_loc/inf_0000_loc_0007/mu_a.nc\n",
      "alpha:  0.01 ; loc:  5.0\n",
      "alpha_count:  1 : loc_count:  0\n",
      "RK_tune/fine_obs/stdrd_loc/inf_0001_loc_0000/mu_f.nc\n",
      "RK_tune/fine_obs/stdrd_loc/inf_0001_loc_0000/mu_a.nc\n",
      "alpha:  0.01 ; loc:  10.0\n",
      "alpha_count:  1 : loc_count:  1\n",
      "RK_tune/fine_obs/stdrd_loc/inf_0001_loc_0001/mu_f.nc\n",
      "RK_tune/fine_obs/stdrd_loc/inf_0001_loc_0001/mu_a.nc\n",
      "alpha:  0.01 ; loc:  15.0\n",
      "alpha_count:  1 : loc_count:  2\n",
      "RK_tune/fine_obs/stdrd_loc/inf_0001_loc_0002/mu_f.nc\n",
      "RK_tune/fine_obs/stdrd_loc/inf_0001_loc_0002/mu_a.nc\n",
      "alpha:  0.01 ; loc:  20.0\n",
      "alpha_count:  1 : loc_count:  3\n",
      "RK_tune/fine_obs/stdrd_loc/inf_0001_loc_0003/mu_f.nc\n",
      "RK_tune/fine_obs/stdrd_loc/inf_0001_loc_0003/mu_a.nc\n",
      "alpha:  0.01 ; loc:  30.0\n",
      "alpha_count:  1 : loc_count:  4\n",
      "RK_tune/fine_obs/stdrd_loc/inf_0001_loc_0004/mu_f.nc\n",
      "RK_tune/fine_obs/stdrd_loc/inf_0001_loc_0004/mu_a.nc\n",
      "alpha:  0.01 ; loc:  40.0\n",
      "alpha_count:  1 : loc_count:  5\n",
      "RK_tune/fine_obs/stdrd_loc/inf_0001_loc_0005/mu_f.nc\n",
      "RK_tune/fine_obs/stdrd_loc/inf_0001_loc_0005/mu_a.nc\n",
      "alpha:  0.01 ; loc:  50.0\n",
      "alpha_count:  1 : loc_count:  6\n",
      "RK_tune/fine_obs/stdrd_loc/inf_0001_loc_0006/mu_f.nc\n",
      "RK_tune/fine_obs/stdrd_loc/inf_0001_loc_0006/mu_a.nc\n",
      "alpha:  0.01 ; loc:  60.0\n",
      "alpha_count:  1 : loc_count:  7\n",
      "RK_tune/fine_obs/stdrd_loc/inf_0001_loc_0007/mu_f.nc\n",
      "RK_tune/fine_obs/stdrd_loc/inf_0001_loc_0007/mu_a.nc\n",
      "alpha:  0.02 ; loc:  5.0\n",
      "alpha_count:  2 : loc_count:  0\n",
      "RK_tune/fine_obs/stdrd_loc/inf_0002_loc_0000/mu_f.nc\n",
      "RK_tune/fine_obs/stdrd_loc/inf_0002_loc_0000/mu_a.nc\n",
      "alpha:  0.02 ; loc:  10.0\n",
      "alpha_count:  2 : loc_count:  1\n",
      "RK_tune/fine_obs/stdrd_loc/inf_0002_loc_0001/mu_f.nc\n",
      "RK_tune/fine_obs/stdrd_loc/inf_0002_loc_0001/mu_a.nc\n",
      "alpha:  0.02 ; loc:  15.0\n",
      "alpha_count:  2 : loc_count:  2\n",
      "RK_tune/fine_obs/stdrd_loc/inf_0002_loc_0002/mu_f.nc\n",
      "RK_tune/fine_obs/stdrd_loc/inf_0002_loc_0002/mu_a.nc\n",
      "alpha:  0.02 ; loc:  20.0\n",
      "alpha_count:  2 : loc_count:  3\n",
      "RK_tune/fine_obs/stdrd_loc/inf_0002_loc_0003/mu_f.nc\n",
      "RK_tune/fine_obs/stdrd_loc/inf_0002_loc_0003/mu_a.nc\n",
      "alpha:  0.02 ; loc:  30.0\n",
      "alpha_count:  2 : loc_count:  4\n",
      "RK_tune/fine_obs/stdrd_loc/inf_0002_loc_0004/mu_f.nc\n",
      "RK_tune/fine_obs/stdrd_loc/inf_0002_loc_0004/mu_a.nc\n",
      "alpha:  0.02 ; loc:  40.0\n",
      "alpha_count:  2 : loc_count:  5\n",
      "RK_tune/fine_obs/stdrd_loc/inf_0002_loc_0005/mu_f.nc\n",
      "RK_tune/fine_obs/stdrd_loc/inf_0002_loc_0005/mu_a.nc\n",
      "alpha:  0.02 ; loc:  50.0\n",
      "alpha_count:  2 : loc_count:  6\n",
      "RK_tune/fine_obs/stdrd_loc/inf_0002_loc_0006/mu_f.nc\n",
      "RK_tune/fine_obs/stdrd_loc/inf_0002_loc_0006/mu_a.nc\n",
      "alpha:  0.02 ; loc:  60.0\n",
      "alpha_count:  2 : loc_count:  7\n",
      "RK_tune/fine_obs/stdrd_loc/inf_0002_loc_0007/mu_f.nc\n",
      "RK_tune/fine_obs/stdrd_loc/inf_0002_loc_0007/mu_a.nc\n",
      "alpha:  0.04 ; loc:  5.0\n",
      "alpha_count:  3 : loc_count:  0\n",
      "RK_tune/fine_obs/stdrd_loc/inf_0003_loc_0000/mu_f.nc\n",
      "RK_tune/fine_obs/stdrd_loc/inf_0003_loc_0000/mu_a.nc\n",
      "alpha:  0.04 ; loc:  10.0\n",
      "alpha_count:  3 : loc_count:  1\n",
      "RK_tune/fine_obs/stdrd_loc/inf_0003_loc_0001/mu_f.nc\n",
      "RK_tune/fine_obs/stdrd_loc/inf_0003_loc_0001/mu_a.nc\n",
      "alpha:  0.04 ; loc:  15.0\n",
      "alpha_count:  3 : loc_count:  2\n",
      "RK_tune/fine_obs/stdrd_loc/inf_0003_loc_0002/mu_f.nc\n",
      "RK_tune/fine_obs/stdrd_loc/inf_0003_loc_0002/mu_a.nc\n",
      "alpha:  0.04 ; loc:  20.0\n",
      "alpha_count:  3 : loc_count:  3\n",
      "RK_tune/fine_obs/stdrd_loc/inf_0003_loc_0003/mu_f.nc\n",
      "RK_tune/fine_obs/stdrd_loc/inf_0003_loc_0003/mu_a.nc\n",
      "alpha:  0.04 ; loc:  30.0\n",
      "alpha_count:  3 : loc_count:  4\n",
      "RK_tune/fine_obs/stdrd_loc/inf_0003_loc_0004/mu_f.nc\n",
      "RK_tune/fine_obs/stdrd_loc/inf_0003_loc_0004/mu_a.nc\n",
      "alpha:  0.04 ; loc:  40.0\n",
      "alpha_count:  3 : loc_count:  5\n",
      "RK_tune/fine_obs/stdrd_loc/inf_0003_loc_0005/mu_f.nc\n",
      "RK_tune/fine_obs/stdrd_loc/inf_0003_loc_0005/mu_a.nc\n",
      "alpha:  0.04 ; loc:  50.0\n",
      "alpha_count:  3 : loc_count:  6\n",
      "RK_tune/fine_obs/stdrd_loc/inf_0003_loc_0006/mu_f.nc\n",
      "RK_tune/fine_obs/stdrd_loc/inf_0003_loc_0006/mu_a.nc\n",
      "alpha:  0.04 ; loc:  60.0\n",
      "alpha_count:  3 : loc_count:  7\n",
      "RK_tune/fine_obs/stdrd_loc/inf_0003_loc_0007/mu_f.nc\n",
      "RK_tune/fine_obs/stdrd_loc/inf_0003_loc_0007/mu_a.nc\n",
      "alpha:  0.08 ; loc:  5.0\n",
      "alpha_count:  4 : loc_count:  0\n",
      "RK_tune/fine_obs/stdrd_loc/inf_0004_loc_0000/mu_f.nc\n",
      "RK_tune/fine_obs/stdrd_loc/inf_0004_loc_0000/mu_a.nc\n",
      "alpha:  0.08 ; loc:  10.0\n",
      "alpha_count:  4 : loc_count:  1\n",
      "RK_tune/fine_obs/stdrd_loc/inf_0004_loc_0001/mu_f.nc\n",
      "RK_tune/fine_obs/stdrd_loc/inf_0004_loc_0001  has failed.\n",
      "alpha:  0.08 ; loc:  15.0\n",
      "alpha_count:  4 : loc_count:  2\n",
      "RK_tune/fine_obs/stdrd_loc/inf_0004_loc_0002/mu_f.nc\n",
      "RK_tune/fine_obs/stdrd_loc/inf_0004_loc_0002/mu_a.nc\n",
      "alpha:  0.08 ; loc:  20.0\n",
      "alpha_count:  4 : loc_count:  3\n",
      "RK_tune/fine_obs/stdrd_loc/inf_0004_loc_0003/mu_f.nc\n",
      "RK_tune/fine_obs/stdrd_loc/inf_0004_loc_0003/mu_a.nc\n",
      "alpha:  0.08 ; loc:  30.0\n",
      "alpha_count:  4 : loc_count:  4\n",
      "RK_tune/fine_obs/stdrd_loc/inf_0004_loc_0004/mu_f.nc\n",
      "RK_tune/fine_obs/stdrd_loc/inf_0004_loc_0004/mu_a.nc\n",
      "alpha:  0.08 ; loc:  40.0\n",
      "alpha_count:  4 : loc_count:  5\n",
      "RK_tune/fine_obs/stdrd_loc/inf_0004_loc_0005/mu_f.nc\n",
      "RK_tune/fine_obs/stdrd_loc/inf_0004_loc_0005/mu_a.nc\n",
      "alpha:  0.08 ; loc:  50.0\n",
      "alpha_count:  4 : loc_count:  6\n",
      "RK_tune/fine_obs/stdrd_loc/inf_0004_loc_0006/mu_f.nc\n",
      "RK_tune/fine_obs/stdrd_loc/inf_0004_loc_0006/mu_a.nc\n",
      "alpha:  0.08 ; loc:  60.0\n",
      "alpha_count:  4 : loc_count:  7\n",
      "RK_tune/fine_obs/stdrd_loc/inf_0004_loc_0007/mu_f.nc\n",
      "RK_tune/fine_obs/stdrd_loc/inf_0004_loc_0007/mu_a.nc\n"
     ]
    }
   ],
   "source": [
    "importlib.reload(assimilate)\n",
    "importlib.reload(utilities)\n",
    "\n",
    "mu_f = []\n",
    "mu_a = []\n",
    "\n",
    "std_f = []\n",
    "std_a = []\n",
    "\n",
    "rmse_array_f = np.ones([alpha_range.size, loc_range.size]) * np.nan\n",
    "std_array_f = rmse_array_f.copy()\n",
    "\n",
    "rmse_array_a = rmse_array_f.copy()\n",
    "std_array_a = rmse_array_f.copy()\n",
    "\n",
    "stdrd_dir = os.path.join(tune_dir, loc_style)\n",
    "if not os.path.exists(stdrd_dir):\n",
    "    os.mkdir(stdrd_dir)\n",
    "\n",
    "for alpha_count, this_alpha in enumerate(alpha_range):\n",
    "    for loc_count, this_loc in enumerate(loc_range):\n",
    "        this_folder_name = f'inf_{alpha_count:04}_loc_{loc_count:04}'\n",
    "        this_dir_name = os.path.join(stdrd_dir, this_folder_name)\n",
    "#         if not os.path.exists(this_dir_name):\n",
    "#             os.mkdir(this_dir_name)\n",
    "        print('alpha: ', this_alpha, '; loc: ', this_loc)\n",
    "        print('alpha_count: ', alpha_count, ': loc_count: ', loc_count)\n",
    "\n",
    "#         rho_Zc = np.arange(Nz)\n",
    "#         rho_Zc = np.minimum(np.abs(Nz - rho_Zc)%Nz, rho_Zc)\n",
    "#         rho_Zc = np.exp(-(rho_Zc**2)/(2*this_loc**2))\n",
    "#         rho_Zc = sp.linalg.circulant(rho_Zc)\n",
    "        \n",
    "#         this_path = os.path.join(this_dir_name, 'rho0z')\n",
    "#         np.save(this_path, this_loc)\n",
    "        \n",
    "#         this_path = os.path.join(this_dir_name, 'alpha')\n",
    "#         np.save(this_path, this_alpha)\n",
    "\n",
    "#         cycle_dict = {'Z0ens': Z0ens,\n",
    "#                       'Zobs_ts': Zobs_ts,\n",
    "#                       'Rz': Rz, 'Hz': Hz,\n",
    "#                       'Tkf': Tkf,\n",
    "#                       'dt_kf': dt_kf,\n",
    "#                       'dt_rk': dt_trial_rk,\n",
    "#                       'rho_Z': rho_Zc,\n",
    "#                       'rho0_Z': this_loc,\n",
    "#                       'alpha': this_alpha}\n",
    "        try:\n",
    "            this_path = os.path.join(this_dir_name, 'mu_f.nc')\n",
    "            print(this_path)\n",
    "            mu_f.append(xr.open_dataarray(this_path))\n",
    "            \n",
    "            this_path = os.path.join(this_dir_name, 'mu_a.nc')\n",
    "            print(this_path)\n",
    "            mu_a.append(xr.open_dataarray(this_path))\n",
    "            \n",
    "#             this_path = os.path.join(this_dir_name, 'std_f.nc')\n",
    "#             std_f.to_netcdf(this_path)\n",
    "\n",
    "#             this_path = os.path.join(this_dir_name, 'mu_a.nc')\n",
    "#             mu_a.to_netcdf(this_path)\n",
    "\n",
    "#             this_path = os.path.join(this_dir_name, 'std_a.nc')\n",
    "#             std_a.to_netcdf(this_path)\n",
    "\n",
    "\n",
    "#             rmse_array_f[alpha_count, loc_count] = (np.sqrt(\n",
    "#                 ((mu_f - Zgt_ts.sel(time=mu_f.time))**2).mean(axis=0))\n",
    "#                                           .isel(time=slice(Tspin_index, None)).mean())\n",
    "#             rmse_array_a[alpha_count, loc_count] = (np.sqrt(\n",
    "#                 ((mu_a - Zgt_ts.sel(time=mu_f.time))**2).mean(axis=0))\n",
    "#                                           .isel(time=slice(Tspin_index, None)).mean())\n",
    "#             std_array_f[alpha_count, loc_count] = (np.sqrt((std_f**2).mean(axis=0))\n",
    "#                                                   .isel(time=slice(Tspin_index, None)).mean())\n",
    "#             std_array_a[alpha_count, loc_count] = (np.sqrt((std_a**2).mean(axis=0))\n",
    "#                                                   .isel(time=slice(Tspin_index, None)).mean())\n",
    "        except:\n",
    "            print(this_dir_name, ' has failed.')\n",
    "        "
   ]
  },
  {
   "cell_type": "code",
   "execution_count": 11,
   "metadata": {},
   "outputs": [],
   "source": [
    "this_path = os.path.join(stdrd_dir, 'rmse_array_f.npy')\n",
    "rmse_array_f = np.load(this_path)\n",
    "\n",
    "this_path = os.path.join(stdrd_dir, 'std_array_f.npy')\n",
    "std_array_f = np.load(this_path)\n",
    "\n",
    "this_path = os.path.join(stdrd_dir, 'rmse_array_a.npy')\n",
    "rmse_array_a = np.load(this_path)\n",
    "\n",
    "this_path = os.path.join(stdrd_dir, 'std_array_a.npy')\n",
    "std_array_a = np.load(this_path)"
   ]
  },
  {
   "cell_type": "code",
   "execution_count": 23,
   "metadata": {
    "scrolled": true
   },
   "outputs": [
    {
     "data": {
      "image/png": "[encoded data removed]",
      "text/plain": [
       "<Figure size 432x288 with 2 Axes>"
      ]
     },
     "metadata": {
      "needs_background": "light"
     },
     "output_type": "display_data"
    },
    {
     "data": {
      "image/png": "[encoded data removed]",
      "text/plain": [
       "<Figure size 432x288 with 2 Axes>"
      ]
     },
     "metadata": {
      "needs_background": "light"
     },
     "output_type": "display_data"
    }
   ],
   "source": [
    "imshow(rmse_array_f)\n",
    "imshow(rmse_array_a)"
   ]
  },
  {
   "cell_type": "code",
   "execution_count": 16,
   "metadata": {},
   "outputs": [
    {
     "data": {
      "text/plain": [
       "<matplotlib.collections.QuadMesh at 0x7f320f77d048>"
      ]
     },
     "execution_count": 16,
     "metadata": {},
     "output_type": "execute_result"
    },
    {
     "data": {
      "image/png": "[encoded data removed]",
      "text/plain": [
       "<Figure size 432x288 with 1 Axes>"
      ]
     },
     "metadata": {
      "needs_background": "light"
     },
     "output_type": "display_data"
    },
    {
     "data": {
      "image/png": "[encoded data removed]",
      "text/plain": [
       "<Figure size 432x288 with 1 Axes>"
      ]
     },
     "metadata": {
      "needs_background": "light"
     },
     "output_type": "display_data"
    }
   ],
   "source": [
    "plt.figure()\n",
    "plt.pcolormesh(loc_range,\n",
    "               alpha_range,\n",
    "               rmse_array_f)\n",
    "plt.figure()\n",
    "plt.pcolormesh(loc_range,\n",
    "               alpha_range,\n",
    "               rmse_array_a)"
   ]
  },
  {
   "cell_type": "code",
   "execution_count": 17,
   "metadata": {},
   "outputs": [
    {
     "ename": "ValueError",
     "evalue": "operands could not be broadcast together with shapes (5,) (4,) ",
     "output_type": "error",
     "traceback": [
      "\u001b[0;31m---------------------------------------------------------------------------\u001b[0m",
      "\u001b[0;31mValueError\u001b[0m                                Traceback (most recent call last)",
      "\u001b[0;32m<ipython-input-17-cbe5d6d5674c>\u001b[0m in \u001b[0;36m<module>\u001b[0;34m\u001b[0m\n\u001b[1;32m      1\u001b[0m \u001b[0malpha_diff\u001b[0m \u001b[0;34m=\u001b[0m \u001b[0mnp\u001b[0m\u001b[0;34m.\u001b[0m\u001b[0mdiff\u001b[0m\u001b[0;34m(\u001b[0m\u001b[0malpha_range\u001b[0m\u001b[0;34m)\u001b[0m\u001b[0;34m\u001b[0m\u001b[0;34m\u001b[0m\u001b[0m\n\u001b[0;32m----> 2\u001b[0;31m \u001b[0malpha_plot\u001b[0m \u001b[0;34m=\u001b[0m \u001b[0malpha_range\u001b[0m \u001b[0;34m-\u001b[0m \u001b[0malpha_diff\u001b[0m\u001b[0;34m\u001b[0m\u001b[0;34m\u001b[0m\u001b[0m\n\u001b[0m\u001b[1;32m      3\u001b[0m alpha_plot = np.concatenate(\n\u001b[1;32m      4\u001b[0m     [alpha_plot,\n\u001b[1;32m      5\u001b[0m      [alpha_range[-1] + alpha_diff[-1]]])\n",
      "\u001b[0;31mValueError\u001b[0m: operands could not be broadcast together with shapes (5,) (4,) "
     ]
    }
   ],
   "source": [
    "alpha_diff = np.diff(alpha_range)\n",
    "alpha_plot = alpha_range - alpha_diff\n",
    "alpha_plot = np.concatenate(\n",
    "    [alpha_plot,\n",
    "     [alpha_range[-1] + alpha_diff[-1]]])"
   ]
  },
  {
   "cell_type": "code",
   "execution_count": 18,
   "metadata": {},
   "outputs": [
    {
     "data": {
      "text/plain": [
       "array([0.01, 0.01, 0.02, 0.04])"
      ]
     },
     "execution_count": 18,
     "metadata": {},
     "output_type": "execute_result"
    }
   ],
   "source": [
    "alpha_diff"
   ]
  },
  {
   "cell_type": "code",
   "execution_count": 19,
   "metadata": {},
   "outputs": [
    {
     "data": {
      "image/png": "[encoded data removed]",
      "text/plain": [
       "<Figure size 432x288 with 2 Axes>"
      ]
     },
     "metadata": {
      "needs_background": "light"
     },
     "output_type": "display_data"
    }
   ],
   "source": [
    "imshow(rmse_array_a)"
   ]
  },
  {
   "cell_type": "code",
   "execution_count": 20,
   "metadata": {},
   "outputs": [
    {
     "data": {
      "text/plain": [
       "[<matplotlib.lines.Line2D at 0x7f320f5fcba8>]"
      ]
     },
     "execution_count": 20,
     "metadata": {},
     "output_type": "execute_result"
    },
    {
     "data": {
      "image/png": "[encoded data removed]",
      "text/plain": [
       "<Figure size 432x288 with 1 Axes>"
      ]
     },
     "metadata": {
      "needs_background": "light"
     },
     "output_type": "display_data"
    }
   ],
   "source": [
    "plt.figure()\n",
    "plt.plot(rmse_array_f[0])"
   ]
  },
  {
   "cell_type": "code",
   "execution_count": 21,
   "metadata": {},
   "outputs": [
    {
     "ename": "TypeError",
     "evalue": "Invalid shape (8,) for image data",
     "output_type": "error",
     "traceback": [
      "\u001b[0;31m---------------------------------------------------------------------------\u001b[0m",
      "\u001b[0;31mTypeError\u001b[0m                                 Traceback (most recent call last)",
      "\u001b[0;32m<ipython-input-21-9533396b7a86>\u001b[0m in \u001b[0;36m<module>\u001b[0;34m\u001b[0m\n\u001b[0;32m----> 1\u001b[0;31m \u001b[0mimshow\u001b[0m\u001b[0;34m(\u001b[0m\u001b[0mrmse_array_f\u001b[0m\u001b[0;34m[\u001b[0m\u001b[0;36m0\u001b[0m\u001b[0;34m]\u001b[0m\u001b[0;34m)\u001b[0m\u001b[0;34m\u001b[0m\u001b[0;34m\u001b[0m\u001b[0m\n\u001b[0m",
      "\u001b[0;32m<ipython-input-4-85eb9c21ed81>\u001b[0m in \u001b[0;36mimshow\u001b[0;34m(X, title, vmin, vmax, cmap)\u001b[0m\n\u001b[1;32m      1\u001b[0m \u001b[0;32mdef\u001b[0m \u001b[0mimshow\u001b[0m\u001b[0;34m(\u001b[0m\u001b[0mX\u001b[0m\u001b[0;34m,\u001b[0m \u001b[0mtitle\u001b[0m\u001b[0;34m=\u001b[0m\u001b[0;32mNone\u001b[0m\u001b[0;34m,\u001b[0m \u001b[0mvmin\u001b[0m\u001b[0;34m=\u001b[0m\u001b[0;32mNone\u001b[0m\u001b[0;34m,\u001b[0m \u001b[0mvmax\u001b[0m\u001b[0;34m=\u001b[0m\u001b[0;32mNone\u001b[0m\u001b[0;34m,\u001b[0m \u001b[0mcmap\u001b[0m\u001b[0;34m=\u001b[0m\u001b[0;32mNone\u001b[0m\u001b[0;34m)\u001b[0m\u001b[0;34m:\u001b[0m\u001b[0;34m\u001b[0m\u001b[0;34m\u001b[0m\u001b[0m\n\u001b[1;32m      2\u001b[0m     \u001b[0mplt\u001b[0m\u001b[0;34m.\u001b[0m\u001b[0mfigure\u001b[0m\u001b[0;34m(\u001b[0m\u001b[0;34m)\u001b[0m\u001b[0;34m\u001b[0m\u001b[0;34m\u001b[0m\u001b[0m\n\u001b[0;32m----> 3\u001b[0;31m     \u001b[0mim\u001b[0m \u001b[0;34m=\u001b[0m \u001b[0mplt\u001b[0m\u001b[0;34m.\u001b[0m\u001b[0mimshow\u001b[0m\u001b[0;34m(\u001b[0m\u001b[0mX\u001b[0m\u001b[0;34m,\u001b[0m \u001b[0mvmin\u001b[0m\u001b[0;34m=\u001b[0m\u001b[0mvmin\u001b[0m\u001b[0;34m,\u001b[0m \u001b[0mvmax\u001b[0m\u001b[0;34m=\u001b[0m\u001b[0mvmax\u001b[0m\u001b[0;34m,\u001b[0m \u001b[0mcmap\u001b[0m\u001b[0;34m=\u001b[0m\u001b[0mcmap\u001b[0m\u001b[0;34m)\u001b[0m\u001b[0;34m\u001b[0m\u001b[0;34m\u001b[0m\u001b[0m\n\u001b[0m\u001b[1;32m      4\u001b[0m     \u001b[0mplt\u001b[0m\u001b[0;34m.\u001b[0m\u001b[0mcolorbar\u001b[0m\u001b[0;34m(\u001b[0m\u001b[0mim\u001b[0m\u001b[0;34m)\u001b[0m\u001b[0;34m\u001b[0m\u001b[0;34m\u001b[0m\u001b[0m\n\u001b[1;32m      5\u001b[0m     \u001b[0mplt\u001b[0m\u001b[0;34m.\u001b[0m\u001b[0mtitle\u001b[0m\u001b[0;34m(\u001b[0m\u001b[0mtitle\u001b[0m\u001b[0;34m)\u001b[0m\u001b[0;34m\u001b[0m\u001b[0;34m\u001b[0m\u001b[0m\n",
      "\u001b[0;32m~/miniconda3/envs/loc/lib/python3.7/site-packages/matplotlib/pyplot.py\u001b[0m in \u001b[0;36mimshow\u001b[0;34m(X, cmap, norm, aspect, interpolation, alpha, vmin, vmax, origin, extent, shape, filternorm, filterrad, imlim, resample, url, data, **kwargs)\u001b[0m\n\u001b[1;32m   2675\u001b[0m         \u001b[0mfilternorm\u001b[0m\u001b[0;34m=\u001b[0m\u001b[0mfilternorm\u001b[0m\u001b[0;34m,\u001b[0m \u001b[0mfilterrad\u001b[0m\u001b[0;34m=\u001b[0m\u001b[0mfilterrad\u001b[0m\u001b[0;34m,\u001b[0m \u001b[0mimlim\u001b[0m\u001b[0;34m=\u001b[0m\u001b[0mimlim\u001b[0m\u001b[0;34m,\u001b[0m\u001b[0;34m\u001b[0m\u001b[0;34m\u001b[0m\u001b[0m\n\u001b[1;32m   2676\u001b[0m         resample=resample, url=url, **({\"data\": data} if data is not\n\u001b[0;32m-> 2677\u001b[0;31m         None else {}), **kwargs)\n\u001b[0m\u001b[1;32m   2678\u001b[0m     \u001b[0msci\u001b[0m\u001b[0;34m(\u001b[0m\u001b[0m__ret\u001b[0m\u001b[0;34m)\u001b[0m\u001b[0;34m\u001b[0m\u001b[0;34m\u001b[0m\u001b[0m\n\u001b[1;32m   2679\u001b[0m     \u001b[0;32mreturn\u001b[0m \u001b[0m__ret\u001b[0m\u001b[0;34m\u001b[0m\u001b[0;34m\u001b[0m\u001b[0m\n",
      "\u001b[0;32m~/miniconda3/envs/loc/lib/python3.7/site-packages/matplotlib/__init__.py\u001b[0m in \u001b[0;36minner\u001b[0;34m(ax, data, *args, **kwargs)\u001b[0m\n\u001b[1;32m   1587\u001b[0m     \u001b[0;32mdef\u001b[0m \u001b[0minner\u001b[0m\u001b[0;34m(\u001b[0m\u001b[0max\u001b[0m\u001b[0;34m,\u001b[0m \u001b[0;34m*\u001b[0m\u001b[0margs\u001b[0m\u001b[0;34m,\u001b[0m \u001b[0mdata\u001b[0m\u001b[0;34m=\u001b[0m\u001b[0;32mNone\u001b[0m\u001b[0;34m,\u001b[0m \u001b[0;34m**\u001b[0m\u001b[0mkwargs\u001b[0m\u001b[0;34m)\u001b[0m\u001b[0;34m:\u001b[0m\u001b[0;34m\u001b[0m\u001b[0;34m\u001b[0m\u001b[0m\n\u001b[1;32m   1588\u001b[0m         \u001b[0;32mif\u001b[0m \u001b[0mdata\u001b[0m \u001b[0;32mis\u001b[0m \u001b[0;32mNone\u001b[0m\u001b[0;34m:\u001b[0m\u001b[0;34m\u001b[0m\u001b[0;34m\u001b[0m\u001b[0m\n\u001b[0;32m-> 1589\u001b[0;31m             \u001b[0;32mreturn\u001b[0m \u001b[0mfunc\u001b[0m\u001b[0;34m(\u001b[0m\u001b[0max\u001b[0m\u001b[0;34m,\u001b[0m \u001b[0;34m*\u001b[0m\u001b[0mmap\u001b[0m\u001b[0;34m(\u001b[0m\u001b[0msanitize_sequence\u001b[0m\u001b[0;34m,\u001b[0m \u001b[0margs\u001b[0m\u001b[0;34m)\u001b[0m\u001b[0;34m,\u001b[0m \u001b[0;34m**\u001b[0m\u001b[0mkwargs\u001b[0m\u001b[0;34m)\u001b[0m\u001b[0;34m\u001b[0m\u001b[0;34m\u001b[0m\u001b[0m\n\u001b[0m\u001b[1;32m   1590\u001b[0m \u001b[0;34m\u001b[0m\u001b[0m\n\u001b[1;32m   1591\u001b[0m         \u001b[0mbound\u001b[0m \u001b[0;34m=\u001b[0m \u001b[0mnew_sig\u001b[0m\u001b[0;34m.\u001b[0m\u001b[0mbind\u001b[0m\u001b[0;34m(\u001b[0m\u001b[0max\u001b[0m\u001b[0;34m,\u001b[0m \u001b[0;34m*\u001b[0m\u001b[0margs\u001b[0m\u001b[0;34m,\u001b[0m \u001b[0;34m**\u001b[0m\u001b[0mkwargs\u001b[0m\u001b[0;34m)\u001b[0m\u001b[0;34m\u001b[0m\u001b[0;34m\u001b[0m\u001b[0m\n",
      "\u001b[0;32m~/miniconda3/envs/loc/lib/python3.7/site-packages/matplotlib/cbook/deprecation.py\u001b[0m in \u001b[0;36mwrapper\u001b[0;34m(*args, **kwargs)\u001b[0m\n\u001b[1;32m    367\u001b[0m                 \u001b[0;34mf\"%(removal)s.  If any parameter follows {name!r}, they \"\u001b[0m\u001b[0;34m\u001b[0m\u001b[0;34m\u001b[0m\u001b[0m\n\u001b[1;32m    368\u001b[0m                 f\"should be pass as keyword, not positionally.\")\n\u001b[0;32m--> 369\u001b[0;31m         \u001b[0;32mreturn\u001b[0m \u001b[0mfunc\u001b[0m\u001b[0;34m(\u001b[0m\u001b[0;34m*\u001b[0m\u001b[0margs\u001b[0m\u001b[0;34m,\u001b[0m \u001b[0;34m**\u001b[0m\u001b[0mkwargs\u001b[0m\u001b[0;34m)\u001b[0m\u001b[0;34m\u001b[0m\u001b[0;34m\u001b[0m\u001b[0m\n\u001b[0m\u001b[1;32m    370\u001b[0m \u001b[0;34m\u001b[0m\u001b[0m\n\u001b[1;32m    371\u001b[0m     \u001b[0;32mreturn\u001b[0m \u001b[0mwrapper\u001b[0m\u001b[0;34m\u001b[0m\u001b[0;34m\u001b[0m\u001b[0m\n",
      "\u001b[0;32m~/miniconda3/envs/loc/lib/python3.7/site-packages/matplotlib/cbook/deprecation.py\u001b[0m in \u001b[0;36mwrapper\u001b[0;34m(*args, **kwargs)\u001b[0m\n\u001b[1;32m    367\u001b[0m                 \u001b[0;34mf\"%(removal)s.  If any parameter follows {name!r}, they \"\u001b[0m\u001b[0;34m\u001b[0m\u001b[0;34m\u001b[0m\u001b[0m\n\u001b[1;32m    368\u001b[0m                 f\"should be pass as keyword, not positionally.\")\n\u001b[0;32m--> 369\u001b[0;31m         \u001b[0;32mreturn\u001b[0m \u001b[0mfunc\u001b[0m\u001b[0;34m(\u001b[0m\u001b[0;34m*\u001b[0m\u001b[0margs\u001b[0m\u001b[0;34m,\u001b[0m \u001b[0;34m**\u001b[0m\u001b[0mkwargs\u001b[0m\u001b[0;34m)\u001b[0m\u001b[0;34m\u001b[0m\u001b[0;34m\u001b[0m\u001b[0m\n\u001b[0m\u001b[1;32m    370\u001b[0m \u001b[0;34m\u001b[0m\u001b[0m\n\u001b[1;32m    371\u001b[0m     \u001b[0;32mreturn\u001b[0m \u001b[0mwrapper\u001b[0m\u001b[0;34m\u001b[0m\u001b[0;34m\u001b[0m\u001b[0m\n",
      "\u001b[0;32m~/miniconda3/envs/loc/lib/python3.7/site-packages/matplotlib/axes/_axes.py\u001b[0m in \u001b[0;36mimshow\u001b[0;34m(self, X, cmap, norm, aspect, interpolation, alpha, vmin, vmax, origin, extent, shape, filternorm, filterrad, imlim, resample, url, **kwargs)\u001b[0m\n\u001b[1;32m   5658\u001b[0m                               resample=resample, **kwargs)\n\u001b[1;32m   5659\u001b[0m \u001b[0;34m\u001b[0m\u001b[0m\n\u001b[0;32m-> 5660\u001b[0;31m         \u001b[0mim\u001b[0m\u001b[0;34m.\u001b[0m\u001b[0mset_data\u001b[0m\u001b[0;34m(\u001b[0m\u001b[0mX\u001b[0m\u001b[0;34m)\u001b[0m\u001b[0;34m\u001b[0m\u001b[0;34m\u001b[0m\u001b[0m\n\u001b[0m\u001b[1;32m   5661\u001b[0m         \u001b[0mim\u001b[0m\u001b[0;34m.\u001b[0m\u001b[0mset_alpha\u001b[0m\u001b[0;34m(\u001b[0m\u001b[0malpha\u001b[0m\u001b[0;34m)\u001b[0m\u001b[0;34m\u001b[0m\u001b[0;34m\u001b[0m\u001b[0m\n\u001b[1;32m   5662\u001b[0m         \u001b[0;32mif\u001b[0m \u001b[0mim\u001b[0m\u001b[0;34m.\u001b[0m\u001b[0mget_clip_path\u001b[0m\u001b[0;34m(\u001b[0m\u001b[0;34m)\u001b[0m \u001b[0;32mis\u001b[0m \u001b[0;32mNone\u001b[0m\u001b[0;34m:\u001b[0m\u001b[0;34m\u001b[0m\u001b[0;34m\u001b[0m\u001b[0m\n",
      "\u001b[0;32m~/miniconda3/envs/loc/lib/python3.7/site-packages/matplotlib/image.py\u001b[0m in \u001b[0;36mset_data\u001b[0;34m(self, A)\u001b[0m\n\u001b[1;32m    681\u001b[0m                 or self._A.ndim == 3 and self._A.shape[-1] in [3, 4]):\n\u001b[1;32m    682\u001b[0m             raise TypeError(\"Invalid shape {} for image data\"\n\u001b[0;32m--> 683\u001b[0;31m                             .format(self._A.shape))\n\u001b[0m\u001b[1;32m    684\u001b[0m \u001b[0;34m\u001b[0m\u001b[0m\n\u001b[1;32m    685\u001b[0m         \u001b[0;32mif\u001b[0m \u001b[0mself\u001b[0m\u001b[0;34m.\u001b[0m\u001b[0m_A\u001b[0m\u001b[0;34m.\u001b[0m\u001b[0mndim\u001b[0m \u001b[0;34m==\u001b[0m \u001b[0;36m3\u001b[0m\u001b[0;34m:\u001b[0m\u001b[0;34m\u001b[0m\u001b[0;34m\u001b[0m\u001b[0m\n",
      "\u001b[0;31mTypeError\u001b[0m: Invalid shape (8,) for image data"
     ]
    },
    {
     "data": {
      "image/png": "[encoded data removed]",
      "text/plain": [
       "<Figure size 432x288 with 1 Axes>"
      ]
     },
     "metadata": {
      "needs_background": "light"
     },
     "output_type": "display_data"
    }
   ],
   "source": [
    "imshow(rmse_array_f[0])"
   ]
  },
  {
   "cell_type": "code",
   "execution_count": 22,
   "metadata": {
    "scrolled": true
   },
   "outputs": [
    {
     "data": {
      "image/png": "[encoded data removed]",
      "text/plain": [
       "<Figure size 432x288 with 2 Axes>"
      ]
     },
     "metadata": {
      "needs_background": "light"
     },
     "output_type": "display_data"
    }
   ],
   "source": [
    "imshow(rmse_array_f)"
   ]
  },
  {
   "cell_type": "code",
   "execution_count": 25,
   "metadata": {},
   "outputs": [
    {
     "data": {
      "text/plain": [
       "<xarray.DataArray 'time' (time: 1000)>\n",
       "array([ 0.05,  0.1 ,  0.15, ..., 49.9 , 49.95, 50.  ])\n",
       "Coordinates:\n",
       "  * time     (time) float64 0.05 0.1 0.15 0.2 0.25 ... 49.85 49.9 49.95 50.0"
      ]
     },
     "execution_count": 25,
     "metadata": {},
     "output_type": "execute_result"
    }
   ],
   "source": [
    "mu_f[0].time"
   ]
  },
  {
   "cell_type": "code",
   "execution_count": 21,
   "metadata": {},
   "outputs": [],
   "source": [
    "this = mu_f[1]"
   ]
  },
  {
   "cell_type": "code",
   "execution_count": null,
   "metadata": {},
   "outputs": [],
   "source": [
    "this = mu_f"
   ]
  },
  {
   "cell_type": "code",
   "execution_count": null,
   "metadata": {},
   "outputs": [],
   "source": []
  },
  {
   "cell_type": "code",
   "execution_count": 26,
   "metadata": {
    "scrolled": false
   },
   "outputs": [
    {
     "data": {
      "text/plain": [
       "[<matplotlib.lines.Line2D at 0x7f28cf1f1cc0>]"
      ]
     },
     "execution_count": 26,
     "metadata": {},
     "output_type": "execute_result"
    },
    {
     "data": {
      "image/png": "[encoded data removed]",
      "text/plain": [
       "<Figure size 432x288 with 1 Axes>"
      ]
     },
     "metadata": {
      "needs_background": "light"
     },
     "output_type": "display_data"
    }
   ],
   "source": [
    "plt.figure()\n",
    "plt.plot(this.isel(time=-1))"
   ]
  }
 ],
 "metadata": {
  "kernelspec": {
   "display_name": "Python 3",
   "language": "python",
   "name": "python3"
  },
  "language_info": {
   "codemirror_mode": {
    "name": "ipython",
    "version": 3
   },
   "file_extension": ".py",
   "mimetype": "text/x-python",
   "name": "python",
   "nbconvert_exporter": "python",
   "pygments_lexer": "ipython3",
   "version": "3.7.3"
  }
 },
 "nbformat": 4,
 "nbformat_minor": 2
}
