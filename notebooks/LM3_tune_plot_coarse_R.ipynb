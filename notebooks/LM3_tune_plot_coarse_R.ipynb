{
 "cells": [
  {
   "cell_type": "code",
   "execution_count": 1,
   "metadata": {},
   "outputs": [],
   "source": [
    "import importlib\n",
    "import time\n",
    "import os\n",
    "import pickle\n",
    "import glob\n",
    "import numpy as np\n",
    "import scipy as sp\n",
    "import pandas as pd\n",
    "import xarray as xr\n",
    "import matplotlib.pyplot as plt\n",
    "from scipy import ndimage\n",
    "from scipy import integrate\n",
    "from scipy import interpolate"
   ]
  },
  {
   "cell_type": "code",
   "execution_count": 2,
   "metadata": {},
   "outputs": [],
   "source": [
    "from multi_loc import covariance, assimilate, utilities"
   ]
  },
  {
   "cell_type": "code",
   "execution_count": 3,
   "metadata": {},
   "outputs": [],
   "source": [
    "%matplotlib inline"
   ]
  },
  {
   "cell_type": "code",
   "execution_count": 4,
   "metadata": {},
   "outputs": [],
   "source": [
    "def imshow(X, title=None, vmin=None, vmax=None, cmap=None):\n",
    "    plt.figure()\n",
    "    im = plt.imshow(X, vmin=vmin, vmax=vmax, cmap=cmap)\n",
    "    plt.colorbar(im)\n",
    "    plt.title(title)"
   ]
  },
  {
   "cell_type": "code",
   "execution_count": 6,
   "metadata": {},
   "outputs": [],
   "source": [
    "tune_name = 'fine_obs_R'\n",
    "\n",
    "save_dir = 'fine_time'\n",
    "\n",
    "home = os.path.expanduser(\"~\")\n",
    "\n",
    "save_dir = os.path.join(\n",
    "    home,\n",
    "    'Documents/python_code/multi_loc/notebooks/',\n",
    "    save_dir)\n",
    "\n",
    "tune_dir = os.path.join(save_dir, tune_name)\n",
    "\n",
    "stdrd_dir = os.path.join(tune_dir, 'stdrd_loc')\n",
    "smooth_dir = os.path.join(tune_dir, 'smooth_loc')\n",
    "\n",
    "this_path = os.path.join(save_dir, 'Z_GT.npy')\n",
    "Zgt = np.load(this_path)\n",
    "\n",
    "this_path = os.path.join(save_dir, 'Z0_ens.npy')\n",
    "Z0ens = np.load(this_path)\n",
    "\n",
    "this_path = os.path.join(save_dir, 't_gt.npy')\n",
    "t_gt = np.load(this_path)\n",
    "\n",
    "\n",
    "this_path = os.path.join(save_dir, 'run_vars.pkl')\n",
    "with open(this_path, mode='rb') as f:\n",
    "    run_vars = pickle.load(f)"
   ]
  },
  {
   "cell_type": "code",
   "execution_count": 7,
   "metadata": {},
   "outputs": [
    {
     "name": "stdout",
     "output_type": "stream",
     "text": [
      "Nz = 960\n",
      "K = 32\n",
      "I = 12\n",
      "F = 15.0\n",
      "b = 10.0\n",
      "c = 2.5\n",
      "alpha = 0.12414383561643835\n",
      "beta = 0.013746194824961947\n",
      "coarse = 8\n",
      "Nez = 20\n",
      "Nex = 500\n",
      "dt_gt = 0.000625\n",
      "Tgt = 25.0\n"
     ]
    }
   ],
   "source": [
    "for key, value in run_vars.items():\n",
    "    print(key + ' = ' + str(value))\n",
    "    exec(key + '=value')"
   ]
  },
  {
   "cell_type": "code",
   "execution_count": 8,
   "metadata": {},
   "outputs": [
    {
     "name": "stdout",
     "output_type": "stream",
     "text": [
      "dt_trial_rk = 0.000625\n",
      "dt_kf = 0.005\n",
      "dt_save = None\n",
      "Tkf = 5.0\n",
      "Tspin = 2.5\n",
      "alpha_range = [0.   0.04 0.08 0.12]\n",
      "loc_range = [  2.   4.   6.   8.  10.  15.  30.  60.  90. 120.]\n",
      "R_sd = 0.3\n",
      "everyH = 1\n",
      "Hz = [[1. 0. 0. ... 0. 0. 0.]\n",
      " [0. 1. 0. ... 0. 0. 0.]\n",
      " [0. 0. 1. ... 0. 0. 0.]\n",
      " ...\n",
      " [0. 0. 0. ... 1. 0. 0.]\n",
      " [0. 0. 0. ... 0. 1. 0.]\n",
      " [0. 0. 0. ... 0. 0. 1.]]\n",
      "Rz = [[0.09       0.05432795 0.05390728 ... 0.05400951 0.05390728 0.05432795]\n",
      " [0.05432795 0.09       0.05432795 ... 0.053933   0.05400951 0.05390728]\n",
      " [0.05390728 0.05432795 0.09       ... 0.0539397  0.053933   0.05400951]\n",
      " ...\n",
      " [0.05400951 0.053933   0.0539397  ... 0.09       0.05432795 0.05390728]\n",
      " [0.05390728 0.05400951 0.053933   ... 0.05432795 0.09       0.05432795]\n",
      " [0.05432795 0.05390728 0.05400951 ... 0.05390728 0.05432795 0.09      ]]\n"
     ]
    }
   ],
   "source": [
    "# if not os.path.exists(tune_dir):\n",
    "#     os.mkdir(tune_dir)\n",
    "\n",
    "# dt_trial_rk = 0.05/24\n",
    "# dt_kf = 0.05\n",
    "# dt_save = None\n",
    "# Tkf = Tgt/5     #### Change this\n",
    "# Tspin_index = 500\n",
    "# Tspin = dt_kf * Tspin_index\n",
    "\n",
    "# alpha_range = np.array([0, 0.01, 0.02, 0.04, 0.08], dtype='float')\n",
    "# loc_range = np.array([5, 10, 15, 20, 30, 40, 50, 60], dtype='float')\n",
    "\n",
    "\n",
    "# R_sd = 2\n",
    "# everyH = 24\n",
    "# Hz = np.eye(Nz)[::everyH]\n",
    "# Ny = Hz.shape[0]\n",
    "# Rz = np.eye(Ny) * R_sd**2\n",
    "\n",
    "# fine_obs_dict = {'dt_trial_rk': dt_trial_rk,\n",
    "#                  'dt_kf': dt_kf,\n",
    "#                  'dt_save': dt_save,\n",
    "#                  'Tkf': Tkf,\n",
    "#                  'Tspin': Tspin,\n",
    "#                  'alpha_range': alpha_range,\n",
    "#                  'loc_range': loc_range,\n",
    "#                  'R_sd': R_sd,\n",
    "#                  'Hz': Hz,\n",
    "#                  'Rz': Rz}\n",
    "\n",
    "this_path = os.path.join(tune_dir, 'KF_dict.pkl')\n",
    "with open(this_path, mode='rb') as f:\n",
    "    fine_obs_dict = pickle.load(f)\n",
    "\n",
    "for key, value in fine_obs_dict.items():\n",
    "    print(key + ' = ' + str(value))\n",
    "    exec(key + '=value')\n",
    "    \n",
    "Ny = Hz.shape[0]\n",
    "Rz = np.eye(Ny)\n",
    "\n",
    "del alpha_range, loc_range\n",
    "\n",
    "Tspin_index = int(Tspin/dt_kf)"
   ]
  },
  {
   "cell_type": "code",
   "execution_count": 9,
   "metadata": {},
   "outputs": [],
   "source": [
    "Nobs = int(Tkf/dt_kf) + 1\n",
    "t_kf = np.linspace(0, Tkf, Nobs)\n",
    "\n",
    "Ngt = int(Tgt/dt_gt) + 1\n",
    "t_gt = np.linspace(0, Tgt, Ngt)\n",
    "index_Tkf = int(Tkf/dt_gt) + 1\n",
    "\n",
    "every_t = int(dt_kf/dt_gt)\n",
    "\n",
    "if not np.allclose(t_kf, t_gt[0:index_Tkf:every_t]):\n",
    "    print('They do not match')"
   ]
  },
  {
   "cell_type": "code",
   "execution_count": 10,
   "metadata": {},
   "outputs": [],
   "source": [
    "Zloc = np.arange(Nz)\n",
    "\n",
    "Zgt_ts = xr.DataArray(Zgt[:, 0:index_Tkf:every_t],\n",
    "                      dims=('loc', 'time'),\n",
    "                      coords={'loc': Zloc,\n",
    "                              'time': t_kf})\n",
    "Zobs_ts = Zgt[::everyH, 0:index_Tkf:every_t]\n",
    "Zobs_ts = xr.DataArray(Zobs_ts,\n",
    "                       dims=('loc', 'time'),\n",
    "                       coords={'loc': Zloc[::everyH],\n",
    "                               'time': t_kf})\n",
    "del Zgt"
   ]
  },
  {
   "cell_type": "code",
   "execution_count": 24,
   "metadata": {
    "scrolled": true
   },
   "outputs": [
    {
     "name": "stdout",
     "output_type": "stream",
     "text": [
      "inf_0000_smooth_0000_floc_0000_cloc_0000\n",
      "inf_0000_smooth_0000_floc_0000_cloc_0001\n",
      "inf_0000_smooth_0000_floc_0000_cloc_0002\n",
      "inf_0000_smooth_0000_floc_0000_cloc_0003\n",
      "inf_0000_smooth_0000_floc_0001_cloc_0000\n",
      "inf_0000_smooth_0000_floc_0001_cloc_0001\n",
      "inf_0000_smooth_0000_floc_0001_cloc_0002\n",
      "inf_0000_smooth_0000_floc_0001_cloc_0003\n",
      "inf_0000_smooth_0000_floc_0002_cloc_0000\n",
      "inf_0000_smooth_0000_floc_0002_cloc_0001\n",
      "inf_0000_smooth_0000_floc_0002_cloc_0002\n",
      "inf_0000_smooth_0000_floc_0002_cloc_0003\n",
      "inf_0000_smooth_0000_floc_0003_cloc_0000\n",
      "inf_0000_smooth_0000_floc_0003_cloc_0001\n",
      "inf_0000_smooth_0000_floc_0003_cloc_0002\n",
      "inf_0000_smooth_0000_floc_0003_cloc_0003\n",
      "inf_0000_smooth_0000_floc_0004_cloc_0000\n",
      "inf_0000_smooth_0000_floc_0004_cloc_0001\n",
      "inf_0000_smooth_0000_floc_0004_cloc_0002\n",
      "inf_0000_smooth_0000_floc_0004_cloc_0003\n",
      "inf_0000_smooth_0001_floc_0000_cloc_0000\n",
      "inf_0000_smooth_0001_floc_0000_cloc_0001\n",
      "inf_0000_smooth_0001_floc_0000_cloc_0002\n",
      "inf_0000_smooth_0001_floc_0000_cloc_0003\n",
      "inf_0000_smooth_0001_floc_0001_cloc_0000\n",
      "inf_0000_smooth_0001_floc_0001_cloc_0001\n",
      "inf_0000_smooth_0001_floc_0001_cloc_0002\n",
      "inf_0000_smooth_0001_floc_0001_cloc_0003\n",
      "inf_0000_smooth_0001_floc_0002_cloc_0000\n",
      "inf_0000_smooth_0001_floc_0002_cloc_0001\n",
      "inf_0000_smooth_0001_floc_0002_cloc_0002\n",
      "inf_0000_smooth_0001_floc_0002_cloc_0003\n",
      "inf_0000_smooth_0001_floc_0003_cloc_0000\n",
      "inf_0000_smooth_0001_floc_0003_cloc_0001\n",
      "inf_0000_smooth_0001_floc_0003_cloc_0002\n",
      "inf_0000_smooth_0001_floc_0003_cloc_0003\n",
      "inf_0000_smooth_0001_floc_0004_cloc_0000\n",
      "inf_0000_smooth_0001_floc_0004_cloc_0001\n",
      "inf_0000_smooth_0001_floc_0004_cloc_0002\n",
      "inf_0000_smooth_0001_floc_0004_cloc_0003\n",
      "inf_0000_smooth_0002_floc_0000_cloc_0000\n",
      "inf_0000_smooth_0002_floc_0000_cloc_0001\n",
      "inf_0000_smooth_0002_floc_0000_cloc_0002\n",
      "inf_0000_smooth_0002_floc_0000_cloc_0003\n",
      "inf_0000_smooth_0002_floc_0001_cloc_0000\n",
      "inf_0000_smooth_0002_floc_0001_cloc_0001\n",
      "inf_0000_smooth_0002_floc_0001_cloc_0002\n",
      "inf_0000_smooth_0002_floc_0001_cloc_0003\n",
      "inf_0000_smooth_0002_floc_0002_cloc_0000\n",
      "inf_0000_smooth_0002_floc_0002_cloc_0001\n",
      "inf_0000_smooth_0002_floc_0002_cloc_0002\n",
      "inf_0000_smooth_0002_floc_0002_cloc_0003\n",
      "inf_0000_smooth_0002_floc_0003_cloc_0000\n",
      "inf_0000_smooth_0002_floc_0003_cloc_0001\n",
      "inf_0000_smooth_0002_floc_0003_cloc_0002\n",
      "inf_0000_smooth_0002_floc_0003_cloc_0003\n",
      "inf_0000_smooth_0002_floc_0004_cloc_0000\n",
      "inf_0000_smooth_0002_floc_0004_cloc_0001\n",
      "inf_0000_smooth_0002_floc_0004_cloc_0002\n",
      "inf_0000_smooth_0002_floc_0004_cloc_0003\n",
      "inf_0000_smooth_0003_floc_0000_cloc_0000\n",
      "inf_0000_smooth_0003_floc_0000_cloc_0001\n",
      "inf_0000_smooth_0003_floc_0000_cloc_0002\n",
      "inf_0000_smooth_0003_floc_0000_cloc_0003\n",
      "inf_0000_smooth_0003_floc_0001_cloc_0000\n",
      "inf_0000_smooth_0003_floc_0001_cloc_0001\n",
      "inf_0000_smooth_0003_floc_0001_cloc_0002\n",
      "inf_0000_smooth_0003_floc_0001_cloc_0003\n",
      "inf_0000_smooth_0003_floc_0002_cloc_0000\n"
     ]
    },
    {
     "ename": "FileNotFoundError",
     "evalue": "[Errno 2] No such file or directory: '/Users/harty/Documents/python_code/multi_loc/notebooks/fine_time/fine_obs_R/smooth_loc/inf_0000_smooth_0003_floc_0002_cloc_0000/mu_f.nc'",
     "output_type": "error",
     "traceback": [
      "\u001b[0;31m---------------------------------------------------------------------------\u001b[0m",
      "\u001b[0;31mKeyError\u001b[0m                                  Traceback (most recent call last)",
      "\u001b[0;32m~/miniconda3/envs/loc/lib/python3.7/site-packages/xarray/backends/file_manager.py\u001b[0m in \u001b[0;36macquire\u001b[0;34m(self, needs_lock)\u001b[0m\n\u001b[1;32m    166\u001b[0m             \u001b[0;32mtry\u001b[0m\u001b[0;34m:\u001b[0m\u001b[0;34m\u001b[0m\u001b[0;34m\u001b[0m\u001b[0m\n\u001b[0;32m--> 167\u001b[0;31m                 \u001b[0mfile\u001b[0m \u001b[0;34m=\u001b[0m \u001b[0mself\u001b[0m\u001b[0;34m.\u001b[0m\u001b[0m_cache\u001b[0m\u001b[0;34m[\u001b[0m\u001b[0mself\u001b[0m\u001b[0;34m.\u001b[0m\u001b[0m_key\u001b[0m\u001b[0;34m]\u001b[0m\u001b[0;34m\u001b[0m\u001b[0;34m\u001b[0m\u001b[0m\n\u001b[0m\u001b[1;32m    168\u001b[0m             \u001b[0;32mexcept\u001b[0m \u001b[0mKeyError\u001b[0m\u001b[0;34m:\u001b[0m\u001b[0;34m\u001b[0m\u001b[0;34m\u001b[0m\u001b[0m\n",
      "\u001b[0;32m~/miniconda3/envs/loc/lib/python3.7/site-packages/xarray/backends/lru_cache.py\u001b[0m in \u001b[0;36m__getitem__\u001b[0;34m(self, key)\u001b[0m\n\u001b[1;32m     41\u001b[0m         \u001b[0;32mwith\u001b[0m \u001b[0mself\u001b[0m\u001b[0;34m.\u001b[0m\u001b[0m_lock\u001b[0m\u001b[0;34m:\u001b[0m\u001b[0;34m\u001b[0m\u001b[0;34m\u001b[0m\u001b[0m\n\u001b[0;32m---> 42\u001b[0;31m             \u001b[0mvalue\u001b[0m \u001b[0;34m=\u001b[0m \u001b[0mself\u001b[0m\u001b[0;34m.\u001b[0m\u001b[0m_cache\u001b[0m\u001b[0;34m[\u001b[0m\u001b[0mkey\u001b[0m\u001b[0;34m]\u001b[0m\u001b[0;34m\u001b[0m\u001b[0;34m\u001b[0m\u001b[0m\n\u001b[0m\u001b[1;32m     43\u001b[0m             \u001b[0mself\u001b[0m\u001b[0;34m.\u001b[0m\u001b[0m_cache\u001b[0m\u001b[0;34m.\u001b[0m\u001b[0mmove_to_end\u001b[0m\u001b[0;34m(\u001b[0m\u001b[0mkey\u001b[0m\u001b[0;34m)\u001b[0m\u001b[0;34m\u001b[0m\u001b[0;34m\u001b[0m\u001b[0m\n",
      "\u001b[0;31mKeyError\u001b[0m: [<function _open_scipy_netcdf at 0x12270c0d0>, ('/Users/harty/Documents/python_code/multi_loc/notebooks/fine_time/fine_obs_R/smooth_loc/inf_0000_smooth_0003_floc_0002_cloc_0000/mu_f.nc',), 'r', (('mmap', None), ('version', 2))]",
      "\nDuring handling of the above exception, another exception occurred:\n",
      "\u001b[0;31mFileNotFoundError\u001b[0m                         Traceback (most recent call last)",
      "\u001b[0;32m<ipython-input-24-c1c06e1a9e1c>\u001b[0m in \u001b[0;36m<module>\u001b[0;34m\u001b[0m\n\u001b[1;32m     28\u001b[0m \u001b[0;34m\u001b[0m\u001b[0m\n\u001b[1;32m     29\u001b[0m     \u001b[0mthis_path\u001b[0m \u001b[0;34m=\u001b[0m \u001b[0mos\u001b[0m\u001b[0;34m.\u001b[0m\u001b[0mpath\u001b[0m\u001b[0;34m.\u001b[0m\u001b[0mjoin\u001b[0m\u001b[0;34m(\u001b[0m\u001b[0mthis_dir\u001b[0m\u001b[0;34m,\u001b[0m \u001b[0;34m'mu_f.nc'\u001b[0m\u001b[0;34m)\u001b[0m\u001b[0;34m\u001b[0m\u001b[0;34m\u001b[0m\u001b[0m\n\u001b[0;32m---> 30\u001b[0;31m     \u001b[0mtemp_mu_f\u001b[0m \u001b[0;34m=\u001b[0m \u001b[0mxr\u001b[0m\u001b[0;34m.\u001b[0m\u001b[0mopen_dataarray\u001b[0m\u001b[0;34m(\u001b[0m\u001b[0mthis_path\u001b[0m\u001b[0;34m)\u001b[0m\u001b[0;34m\u001b[0m\u001b[0;34m\u001b[0m\u001b[0m\n\u001b[0m\u001b[1;32m     31\u001b[0m \u001b[0;34m\u001b[0m\u001b[0m\n\u001b[1;32m     32\u001b[0m     \u001b[0mthis_path\u001b[0m \u001b[0;34m=\u001b[0m \u001b[0mos\u001b[0m\u001b[0;34m.\u001b[0m\u001b[0mpath\u001b[0m\u001b[0;34m.\u001b[0m\u001b[0mjoin\u001b[0m\u001b[0;34m(\u001b[0m\u001b[0mthis_dir\u001b[0m\u001b[0;34m,\u001b[0m \u001b[0;34m'mu_a.nc'\u001b[0m\u001b[0;34m)\u001b[0m\u001b[0;34m\u001b[0m\u001b[0;34m\u001b[0m\u001b[0m\n",
      "\u001b[0;32m~/miniconda3/envs/loc/lib/python3.7/site-packages/xarray/backends/api.py\u001b[0m in \u001b[0;36mopen_dataarray\u001b[0;34m(filename_or_obj, group, decode_cf, mask_and_scale, decode_times, autoclose, concat_characters, decode_coords, engine, chunks, lock, cache, drop_variables, backend_kwargs, use_cftime)\u001b[0m\n\u001b[1;32m    507\u001b[0m                            \u001b[0mdrop_variables\u001b[0m\u001b[0;34m=\u001b[0m\u001b[0mdrop_variables\u001b[0m\u001b[0;34m,\u001b[0m\u001b[0;34m\u001b[0m\u001b[0;34m\u001b[0m\u001b[0m\n\u001b[1;32m    508\u001b[0m                            \u001b[0mbackend_kwargs\u001b[0m\u001b[0;34m=\u001b[0m\u001b[0mbackend_kwargs\u001b[0m\u001b[0;34m,\u001b[0m\u001b[0;34m\u001b[0m\u001b[0;34m\u001b[0m\u001b[0m\n\u001b[0;32m--> 509\u001b[0;31m                            use_cftime=use_cftime)\n\u001b[0m\u001b[1;32m    510\u001b[0m \u001b[0;34m\u001b[0m\u001b[0m\n\u001b[1;32m    511\u001b[0m     \u001b[0;32mif\u001b[0m \u001b[0mlen\u001b[0m\u001b[0;34m(\u001b[0m\u001b[0mdataset\u001b[0m\u001b[0;34m.\u001b[0m\u001b[0mdata_vars\u001b[0m\u001b[0;34m)\u001b[0m \u001b[0;34m!=\u001b[0m \u001b[0;36m1\u001b[0m\u001b[0;34m:\u001b[0m\u001b[0;34m\u001b[0m\u001b[0;34m\u001b[0m\u001b[0m\n",
      "\u001b[0;32m~/miniconda3/envs/loc/lib/python3.7/site-packages/xarray/backends/api.py\u001b[0m in \u001b[0;36mopen_dataset\u001b[0;34m(filename_or_obj, group, decode_cf, mask_and_scale, decode_times, autoclose, concat_characters, decode_coords, engine, chunks, lock, cache, drop_variables, backend_kwargs, use_cftime)\u001b[0m\n\u001b[1;32m    392\u001b[0m \u001b[0;34m\u001b[0m\u001b[0m\n\u001b[1;32m    393\u001b[0m     \u001b[0;32mwith\u001b[0m \u001b[0mclose_on_error\u001b[0m\u001b[0;34m(\u001b[0m\u001b[0mstore\u001b[0m\u001b[0;34m)\u001b[0m\u001b[0;34m:\u001b[0m\u001b[0;34m\u001b[0m\u001b[0;34m\u001b[0m\u001b[0m\n\u001b[0;32m--> 394\u001b[0;31m         \u001b[0mds\u001b[0m \u001b[0;34m=\u001b[0m \u001b[0mmaybe_decode_store\u001b[0m\u001b[0;34m(\u001b[0m\u001b[0mstore\u001b[0m\u001b[0;34m)\u001b[0m\u001b[0;34m\u001b[0m\u001b[0;34m\u001b[0m\u001b[0m\n\u001b[0m\u001b[1;32m    395\u001b[0m \u001b[0;34m\u001b[0m\u001b[0m\n\u001b[1;32m    396\u001b[0m     \u001b[0;31m# Ensure source filename always stored in dataset object (GH issue #2550)\u001b[0m\u001b[0;34m\u001b[0m\u001b[0;34m\u001b[0m\u001b[0;34m\u001b[0m\u001b[0m\n",
      "\u001b[0;32m~/miniconda3/envs/loc/lib/python3.7/site-packages/xarray/backends/api.py\u001b[0m in \u001b[0;36mmaybe_decode_store\u001b[0;34m(store, lock)\u001b[0m\n\u001b[1;32m    322\u001b[0m             \u001b[0mstore\u001b[0m\u001b[0;34m,\u001b[0m \u001b[0mmask_and_scale\u001b[0m\u001b[0;34m=\u001b[0m\u001b[0mmask_and_scale\u001b[0m\u001b[0;34m,\u001b[0m \u001b[0mdecode_times\u001b[0m\u001b[0;34m=\u001b[0m\u001b[0mdecode_times\u001b[0m\u001b[0;34m,\u001b[0m\u001b[0;34m\u001b[0m\u001b[0;34m\u001b[0m\u001b[0m\n\u001b[1;32m    323\u001b[0m             \u001b[0mconcat_characters\u001b[0m\u001b[0;34m=\u001b[0m\u001b[0mconcat_characters\u001b[0m\u001b[0;34m,\u001b[0m \u001b[0mdecode_coords\u001b[0m\u001b[0;34m=\u001b[0m\u001b[0mdecode_coords\u001b[0m\u001b[0;34m,\u001b[0m\u001b[0;34m\u001b[0m\u001b[0;34m\u001b[0m\u001b[0m\n\u001b[0;32m--> 324\u001b[0;31m             drop_variables=drop_variables, use_cftime=use_cftime)\n\u001b[0m\u001b[1;32m    325\u001b[0m \u001b[0;34m\u001b[0m\u001b[0m\n\u001b[1;32m    326\u001b[0m         \u001b[0m_protect_dataset_variables_inplace\u001b[0m\u001b[0;34m(\u001b[0m\u001b[0mds\u001b[0m\u001b[0;34m,\u001b[0m \u001b[0mcache\u001b[0m\u001b[0;34m)\u001b[0m\u001b[0;34m\u001b[0m\u001b[0;34m\u001b[0m\u001b[0m\n",
      "\u001b[0;32m~/miniconda3/envs/loc/lib/python3.7/site-packages/xarray/conventions.py\u001b[0m in \u001b[0;36mdecode_cf\u001b[0;34m(obj, concat_characters, mask_and_scale, decode_times, decode_coords, drop_variables, use_cftime)\u001b[0m\n\u001b[1;32m    468\u001b[0m         \u001b[0mencoding\u001b[0m \u001b[0;34m=\u001b[0m \u001b[0mobj\u001b[0m\u001b[0;34m.\u001b[0m\u001b[0mencoding\u001b[0m\u001b[0;34m\u001b[0m\u001b[0;34m\u001b[0m\u001b[0m\n\u001b[1;32m    469\u001b[0m     \u001b[0;32melif\u001b[0m \u001b[0misinstance\u001b[0m\u001b[0;34m(\u001b[0m\u001b[0mobj\u001b[0m\u001b[0;34m,\u001b[0m \u001b[0mAbstractDataStore\u001b[0m\u001b[0;34m)\u001b[0m\u001b[0;34m:\u001b[0m\u001b[0;34m\u001b[0m\u001b[0;34m\u001b[0m\u001b[0m\n\u001b[0;32m--> 470\u001b[0;31m         \u001b[0mvars\u001b[0m\u001b[0;34m,\u001b[0m \u001b[0mattrs\u001b[0m \u001b[0;34m=\u001b[0m \u001b[0mobj\u001b[0m\u001b[0;34m.\u001b[0m\u001b[0mload\u001b[0m\u001b[0;34m(\u001b[0m\u001b[0;34m)\u001b[0m\u001b[0;34m\u001b[0m\u001b[0;34m\u001b[0m\u001b[0m\n\u001b[0m\u001b[1;32m    471\u001b[0m         \u001b[0mextra_coords\u001b[0m \u001b[0;34m=\u001b[0m \u001b[0mset\u001b[0m\u001b[0;34m(\u001b[0m\u001b[0;34m)\u001b[0m\u001b[0;34m\u001b[0m\u001b[0;34m\u001b[0m\u001b[0m\n\u001b[1;32m    472\u001b[0m         \u001b[0mfile_obj\u001b[0m \u001b[0;34m=\u001b[0m \u001b[0mobj\u001b[0m\u001b[0;34m\u001b[0m\u001b[0;34m\u001b[0m\u001b[0m\n",
      "\u001b[0;32m~/miniconda3/envs/loc/lib/python3.7/site-packages/xarray/backends/common.py\u001b[0m in \u001b[0;36mload\u001b[0;34m(self)\u001b[0m\n\u001b[1;32m    118\u001b[0m         \"\"\"\n\u001b[1;32m    119\u001b[0m         variables = FrozenOrderedDict((_decode_variable_name(k), v)\n\u001b[0;32m--> 120\u001b[0;31m                                       for k, v in self.get_variables().items())\n\u001b[0m\u001b[1;32m    121\u001b[0m         \u001b[0mattributes\u001b[0m \u001b[0;34m=\u001b[0m \u001b[0mFrozenOrderedDict\u001b[0m\u001b[0;34m(\u001b[0m\u001b[0mself\u001b[0m\u001b[0;34m.\u001b[0m\u001b[0mget_attrs\u001b[0m\u001b[0;34m(\u001b[0m\u001b[0;34m)\u001b[0m\u001b[0;34m)\u001b[0m\u001b[0;34m\u001b[0m\u001b[0;34m\u001b[0m\u001b[0m\n\u001b[1;32m    122\u001b[0m         \u001b[0;32mreturn\u001b[0m \u001b[0mvariables\u001b[0m\u001b[0;34m,\u001b[0m \u001b[0mattributes\u001b[0m\u001b[0;34m\u001b[0m\u001b[0;34m\u001b[0m\u001b[0m\n",
      "\u001b[0;32m~/miniconda3/envs/loc/lib/python3.7/site-packages/xarray/backends/scipy_.py\u001b[0m in \u001b[0;36mget_variables\u001b[0;34m(self)\u001b[0m\n\u001b[1;32m    164\u001b[0m     \u001b[0;32mdef\u001b[0m \u001b[0mget_variables\u001b[0m\u001b[0;34m(\u001b[0m\u001b[0mself\u001b[0m\u001b[0;34m)\u001b[0m\u001b[0;34m:\u001b[0m\u001b[0;34m\u001b[0m\u001b[0;34m\u001b[0m\u001b[0m\n\u001b[1;32m    165\u001b[0m         return FrozenOrderedDict((k, self.open_store_variable(k, v))\n\u001b[0;32m--> 166\u001b[0;31m                                  for k, v in self.ds.variables.items())\n\u001b[0m\u001b[1;32m    167\u001b[0m \u001b[0;34m\u001b[0m\u001b[0m\n\u001b[1;32m    168\u001b[0m     \u001b[0;32mdef\u001b[0m \u001b[0mget_attrs\u001b[0m\u001b[0;34m(\u001b[0m\u001b[0mself\u001b[0m\u001b[0;34m)\u001b[0m\u001b[0;34m:\u001b[0m\u001b[0;34m\u001b[0m\u001b[0;34m\u001b[0m\u001b[0m\n",
      "\u001b[0;32m~/miniconda3/envs/loc/lib/python3.7/site-packages/xarray/backends/scipy_.py\u001b[0m in \u001b[0;36mds\u001b[0;34m(self)\u001b[0m\n\u001b[1;32m    156\u001b[0m     \u001b[0;34m@\u001b[0m\u001b[0mproperty\u001b[0m\u001b[0;34m\u001b[0m\u001b[0;34m\u001b[0m\u001b[0m\n\u001b[1;32m    157\u001b[0m     \u001b[0;32mdef\u001b[0m \u001b[0mds\u001b[0m\u001b[0;34m(\u001b[0m\u001b[0mself\u001b[0m\u001b[0;34m)\u001b[0m\u001b[0;34m:\u001b[0m\u001b[0;34m\u001b[0m\u001b[0;34m\u001b[0m\u001b[0m\n\u001b[0;32m--> 158\u001b[0;31m         \u001b[0;32mreturn\u001b[0m \u001b[0mself\u001b[0m\u001b[0;34m.\u001b[0m\u001b[0m_manager\u001b[0m\u001b[0;34m.\u001b[0m\u001b[0macquire\u001b[0m\u001b[0;34m(\u001b[0m\u001b[0;34m)\u001b[0m\u001b[0;34m\u001b[0m\u001b[0;34m\u001b[0m\u001b[0m\n\u001b[0m\u001b[1;32m    159\u001b[0m \u001b[0;34m\u001b[0m\u001b[0m\n\u001b[1;32m    160\u001b[0m     \u001b[0;32mdef\u001b[0m \u001b[0mopen_store_variable\u001b[0m\u001b[0;34m(\u001b[0m\u001b[0mself\u001b[0m\u001b[0;34m,\u001b[0m \u001b[0mname\u001b[0m\u001b[0;34m,\u001b[0m \u001b[0mvar\u001b[0m\u001b[0;34m)\u001b[0m\u001b[0;34m:\u001b[0m\u001b[0;34m\u001b[0m\u001b[0;34m\u001b[0m\u001b[0m\n",
      "\u001b[0;32m~/miniconda3/envs/loc/lib/python3.7/site-packages/xarray/backends/file_manager.py\u001b[0m in \u001b[0;36macquire\u001b[0;34m(self, needs_lock)\u001b[0m\n\u001b[1;32m    171\u001b[0m                     \u001b[0mkwargs\u001b[0m \u001b[0;34m=\u001b[0m \u001b[0mkwargs\u001b[0m\u001b[0;34m.\u001b[0m\u001b[0mcopy\u001b[0m\u001b[0;34m(\u001b[0m\u001b[0;34m)\u001b[0m\u001b[0;34m\u001b[0m\u001b[0;34m\u001b[0m\u001b[0m\n\u001b[1;32m    172\u001b[0m                     \u001b[0mkwargs\u001b[0m\u001b[0;34m[\u001b[0m\u001b[0;34m'mode'\u001b[0m\u001b[0;34m]\u001b[0m \u001b[0;34m=\u001b[0m \u001b[0mself\u001b[0m\u001b[0;34m.\u001b[0m\u001b[0m_mode\u001b[0m\u001b[0;34m\u001b[0m\u001b[0;34m\u001b[0m\u001b[0m\n\u001b[0;32m--> 173\u001b[0;31m                 \u001b[0mfile\u001b[0m \u001b[0;34m=\u001b[0m \u001b[0mself\u001b[0m\u001b[0;34m.\u001b[0m\u001b[0m_opener\u001b[0m\u001b[0;34m(\u001b[0m\u001b[0;34m*\u001b[0m\u001b[0mself\u001b[0m\u001b[0;34m.\u001b[0m\u001b[0m_args\u001b[0m\u001b[0;34m,\u001b[0m \u001b[0;34m**\u001b[0m\u001b[0mkwargs\u001b[0m\u001b[0;34m)\u001b[0m\u001b[0;34m\u001b[0m\u001b[0;34m\u001b[0m\u001b[0m\n\u001b[0m\u001b[1;32m    174\u001b[0m                 \u001b[0;32mif\u001b[0m \u001b[0mself\u001b[0m\u001b[0;34m.\u001b[0m\u001b[0m_mode\u001b[0m \u001b[0;34m==\u001b[0m \u001b[0;34m'w'\u001b[0m\u001b[0;34m:\u001b[0m\u001b[0;34m\u001b[0m\u001b[0;34m\u001b[0m\u001b[0m\n\u001b[1;32m    175\u001b[0m                     \u001b[0;31m# ensure file doesn't get overriden when opened again\u001b[0m\u001b[0;34m\u001b[0m\u001b[0;34m\u001b[0m\u001b[0;34m\u001b[0m\u001b[0m\n",
      "\u001b[0;32m~/miniconda3/envs/loc/lib/python3.7/site-packages/xarray/backends/scipy_.py\u001b[0m in \u001b[0;36m_open_scipy_netcdf\u001b[0;34m(filename, mode, mmap, version)\u001b[0m\n\u001b[1;32m     87\u001b[0m     \u001b[0;32mtry\u001b[0m\u001b[0;34m:\u001b[0m\u001b[0;34m\u001b[0m\u001b[0;34m\u001b[0m\u001b[0m\n\u001b[1;32m     88\u001b[0m         return scipy.io.netcdf_file(filename, mode=mode, mmap=mmap,\n\u001b[0;32m---> 89\u001b[0;31m                                     version=version)\n\u001b[0m\u001b[1;32m     90\u001b[0m     \u001b[0;32mexcept\u001b[0m \u001b[0mTypeError\u001b[0m \u001b[0;32mas\u001b[0m \u001b[0me\u001b[0m\u001b[0;34m:\u001b[0m  \u001b[0;31m# netcdf3 message is obscure in this case\u001b[0m\u001b[0;34m\u001b[0m\u001b[0;34m\u001b[0m\u001b[0m\n\u001b[1;32m     91\u001b[0m         \u001b[0merrmsg\u001b[0m \u001b[0;34m=\u001b[0m \u001b[0me\u001b[0m\u001b[0;34m.\u001b[0m\u001b[0margs\u001b[0m\u001b[0;34m[\u001b[0m\u001b[0;36m0\u001b[0m\u001b[0;34m]\u001b[0m\u001b[0;34m\u001b[0m\u001b[0;34m\u001b[0m\u001b[0m\n",
      "\u001b[0;32m~/miniconda3/envs/loc/lib/python3.7/site-packages/scipy/io/netcdf.py\u001b[0m in \u001b[0;36m__init__\u001b[0;34m(self, filename, mode, mmap, version, maskandscale)\u001b[0m\n\u001b[1;32m    250\u001b[0m             \u001b[0mself\u001b[0m\u001b[0;34m.\u001b[0m\u001b[0mfilename\u001b[0m \u001b[0;34m=\u001b[0m \u001b[0mfilename\u001b[0m\u001b[0;34m\u001b[0m\u001b[0;34m\u001b[0m\u001b[0m\n\u001b[1;32m    251\u001b[0m             \u001b[0momode\u001b[0m \u001b[0;34m=\u001b[0m \u001b[0;34m'r+'\u001b[0m \u001b[0;32mif\u001b[0m \u001b[0mmode\u001b[0m \u001b[0;34m==\u001b[0m \u001b[0;34m'a'\u001b[0m \u001b[0;32melse\u001b[0m \u001b[0mmode\u001b[0m\u001b[0;34m\u001b[0m\u001b[0;34m\u001b[0m\u001b[0m\n\u001b[0;32m--> 252\u001b[0;31m             \u001b[0mself\u001b[0m\u001b[0;34m.\u001b[0m\u001b[0mfp\u001b[0m \u001b[0;34m=\u001b[0m \u001b[0mopen\u001b[0m\u001b[0;34m(\u001b[0m\u001b[0mself\u001b[0m\u001b[0;34m.\u001b[0m\u001b[0mfilename\u001b[0m\u001b[0;34m,\u001b[0m \u001b[0;34m'%sb'\u001b[0m \u001b[0;34m%\u001b[0m \u001b[0momode\u001b[0m\u001b[0;34m)\u001b[0m\u001b[0;34m\u001b[0m\u001b[0;34m\u001b[0m\u001b[0m\n\u001b[0m\u001b[1;32m    253\u001b[0m             \u001b[0;32mif\u001b[0m \u001b[0mmmap\u001b[0m \u001b[0;32mis\u001b[0m \u001b[0;32mNone\u001b[0m\u001b[0;34m:\u001b[0m\u001b[0;34m\u001b[0m\u001b[0;34m\u001b[0m\u001b[0m\n\u001b[1;32m    254\u001b[0m                 \u001b[0;31m# Mmapped files on PyPy cannot be usually closed\u001b[0m\u001b[0;34m\u001b[0m\u001b[0;34m\u001b[0m\u001b[0;34m\u001b[0m\u001b[0m\n",
      "\u001b[0;31mFileNotFoundError\u001b[0m: [Errno 2] No such file or directory: '/Users/harty/Documents/python_code/multi_loc/notebooks/fine_time/fine_obs_R/smooth_loc/inf_0000_smooth_0003_floc_0002_cloc_0000/mu_f.nc'"
     ]
    }
   ],
   "source": [
    "search_path = os.path.join(smooth_dir, 'inf_????_smooth_????_floc_????_cloc_????*')\n",
    "smooth_dirs = glob.glob(search_path)\n",
    "smooth_dirs.sort()\n",
    "\n",
    "smooth_rmse_f = []\n",
    "smooth_rmse_a = []\n",
    "smooth_std_f = []\n",
    "smooth_std_a = []\n",
    "\n",
    "smooth_alpha = []\n",
    "smooth_cloc = []\n",
    "smooth_floc = []\n",
    "smooth_smooth = []\n",
    "for this_dir in smooth_dirs:\n",
    "    print(os.path.split(this_dir)[1])\n",
    "    \n",
    "    this_path = os.path.join(this_dir, 'alpha.npy')\n",
    "    smooth_alpha.append(np.load(this_path).item())\n",
    "    \n",
    "    this_path = os.path.join(this_dir, 'rho0c.npy')\n",
    "    smooth_cloc.append(np.load(this_path).item())\n",
    "    \n",
    "    this_path = os.path.join(this_dir, 'rho0f.npy')\n",
    "    smooth_floc.append(np.load(this_path).item())\n",
    "    \n",
    "    this_path = os.path.join(this_dir, 'smooth.npy')\n",
    "    smooth_smooth.append(np.load(this_path, allow_pickle=True).item())\n",
    "    \n",
    "    this_path = os.path.join(this_dir, 'mu_f.nc')\n",
    "    temp_mu_f = xr.open_dataarray(this_path)\n",
    "\n",
    "    this_path = os.path.join(this_dir, 'mu_a.nc')\n",
    "    temp_mu_a = xr.open_dataarray(this_path)\n",
    "    \n",
    "    \n",
    "    smooth_rmse_f.append(np.sqrt(\n",
    "        ((temp_mu_f - Zgt_ts.sel(time=temp_mu_f.time))**2).mean(axis=0))\n",
    "                                  .isel(time=slice(Tspin_index, None)).mean().item())\n",
    "    smooth_rmse_a.append(np.sqrt(\n",
    "        ((temp_mu_a - Zgt_ts.sel(time=temp_mu_a.time))**2).mean(axis=0))\n",
    "                                  .isel(time=slice(Tspin_index, None)).mean().item())\n",
    "    \n",
    "    this_path = os.path.join(this_dir, 'std_f.nc')\n",
    "    temp_std_f = xr.open_dataarray(this_path)\n",
    "\n",
    "    this_path = os.path.join(this_dir, 'std_a.nc')\n",
    "    temp_std_a = xr.open_dataarray(this_path)\n",
    "    \n",
    "    smooth_std_f.append(np.sqrt((temp_std_f**2).mean(axis=0))\n",
    "                                          .isel(time=slice(Tspin_index, None)).mean().item())\n",
    "    smooth_std_a.append(np.sqrt((temp_std_a**2).mean(axis=0))\n",
    "                                          .isel(time=slice(Tspin_index, None)).mean().item())\n",
    "smooth_alpha = np.array(smooth_alpha)\n",
    "smooth_cloc = np.array(smooth_cloc)\n",
    "smooth_floc = np.array(smooth_floc)\n",
    "smooth_smooth = np.array(smooth_smooth)\n",
    "\n",
    "smooth_rmse_f = np.array(smooth_rmse_f)\n",
    "smooth_rmse_a = np.array(smooth_rmse_a)"
   ]
  },
  {
   "cell_type": "code",
   "execution_count": 32,
   "metadata": {},
   "outputs": [],
   "source": [
    "smooth_alpha = smooth_alpha[:-1]\n",
    "smooth_cloc = smooth_cloc[:-1]\n",
    "smooth_floc = smooth_floc[:-1]\n",
    "smooth_smooth = smooth_smooth[:-1]\n",
    "\n",
    "smooth_alpha = np.array(smooth_alpha)\n",
    "smooth_cloc = np.array(smooth_cloc)\n",
    "smooth_floc = np.array(smooth_floc)\n",
    "smooth_smooth = np.array(smooth_smooth)\n",
    "\n",
    "smooth_rmse_f = np.array(smooth_rmse_f)\n",
    "smooth_rmse_a = np.array(smooth_rmse_a)"
   ]
  },
  {
   "cell_type": "code",
   "execution_count": 13,
   "metadata": {
    "scrolled": true
   },
   "outputs": [
    {
     "name": "stdout",
     "output_type": "stream",
     "text": [
      "inf_0000_loc_0000\n",
      "inf_0000_loc_0001\n",
      "inf_0000_loc_0002\n",
      "inf_0000_loc_0003\n",
      "inf_0000_loc_0004\n",
      "inf_0000_loc_0005\n",
      "inf_0000_loc_0006\n",
      "inf_0000_loc_0007\n",
      "inf_0000_loc_0008\n",
      "inf_0000_loc_0009\n",
      "inf_0001_loc_0000\n",
      "inf_0001_loc_0001\n",
      "inf_0001_loc_0002\n",
      "inf_0001_loc_0003\n",
      "inf_0001_loc_0004\n",
      "inf_0001_loc_0005\n",
      "inf_0001_loc_0006\n",
      "inf_0001_loc_0007\n",
      "inf_0001_loc_0008\n",
      "inf_0001_loc_0009\n",
      "inf_0002_loc_0000\n",
      "inf_0002_loc_0001\n",
      "inf_0002_loc_0002\n",
      "inf_0002_loc_0003\n",
      "inf_0002_loc_0004\n",
      "inf_0002_loc_0005\n",
      "inf_0002_loc_0006\n",
      "inf_0002_loc_0007\n",
      "inf_0002_loc_0008\n",
      "inf_0002_loc_0009\n",
      "inf_0003_loc_0000\n",
      "inf_0003_loc_0001\n",
      "inf_0003_loc_0002\n",
      "inf_0003_loc_0003\n",
      "inf_0003_loc_0004\n",
      "inf_0003_loc_0005\n",
      "inf_0003_loc_0006\n",
      "inf_0003_loc_0007\n",
      "inf_0003_loc_0008\n",
      "inf_0003_loc_0009\n"
     ]
    }
   ],
   "source": [
    "search_path = os.path.join(stdrd_dir, 'inf_????_loc_????')\n",
    "stdrd_dirs = glob.glob(search_path)\n",
    "stdrd_dirs.sort()\n",
    "\n",
    "stdrd_rmse_f = []\n",
    "stdrd_rmse_a = []\n",
    "stdrd_std_f = []\n",
    "stdrd_std_a = []\n",
    "\n",
    "stdrd_alpha = []\n",
    "stdrd_loc = []\n",
    "for this_dir in stdrd_dirs:\n",
    "    print(os.path.split(this_dir)[1])\n",
    "    \n",
    "    this_path = os.path.join(this_dir, 'alpha.npy')\n",
    "    stdrd_alpha.append(np.load(this_path).item())\n",
    "    \n",
    "    this_path = os.path.join(this_dir, 'rho0z.npy')\n",
    "    stdrd_loc.append(np.load(this_path).item())\n",
    "    \n",
    "    this_path = os.path.join(this_dir, 'mu_f.nc')\n",
    "    temp_mu_f = xr.open_dataarray(this_path)\n",
    "\n",
    "    this_path = os.path.join(this_dir, 'mu_a.nc')\n",
    "    temp_mu_a = xr.open_dataarray(this_path)\n",
    "    \n",
    "    stdrd_rmse_f.append(np.sqrt(\n",
    "        ((temp_mu_f - Zgt_ts.sel(time=temp_mu_f.time))**2).mean(axis=0))\n",
    "                                  .isel(time=slice(Tspin_index, None)).mean().item())\n",
    "    stdrd_rmse_a.append(np.sqrt(\n",
    "        ((temp_mu_a - Zgt_ts.sel(time=temp_mu_a.time))**2).mean(axis=0))\n",
    "                                  .isel(time=slice(Tspin_index, None)).mean().item())\n",
    "    \n",
    "    this_path = os.path.join(this_dir, 'std_f.nc')\n",
    "    temp_std_f = xr.open_dataarray(this_path)\n",
    "\n",
    "    this_path = os.path.join(this_dir, 'std_a.nc')\n",
    "    temp_std_a = xr.open_dataarray(this_path)\n",
    "    \n",
    "    stdrd_std_f.append(np.sqrt((temp_std_f**2).mean(axis=0))\n",
    "                                          .isel(time=slice(Tspin_index, None)).mean().item())\n",
    "    stdrd_std_a.append(np.sqrt((temp_std_a**2).mean(axis=0))\n",
    "                                          .isel(time=slice(Tspin_index, None)).mean().item())\n",
    "\n",
    "stdrd_alpha = np.array(stdrd_alpha)\n",
    "stdrd_loc = np.array(stdrd_loc)\n",
    "\n",
    "stdrd_rmse_f = np.array(stdrd_rmse_f)\n",
    "stdrd_rmse_a = np.array(stdrd_rmse_a)"
   ]
  },
  {
   "cell_type": "code",
   "execution_count": 14,
   "metadata": {},
   "outputs": [],
   "source": [
    "# stdrd_alpha = stdrd_alpha[:-1]\n",
    "# stdrd_loc = stdrd_loc[:-1]\n",
    "\n",
    "# stdrd_alpha = np.array(stdrd_alpha)\n",
    "# stdrd_loc = np.array(stdrd_loc)\n",
    "\n",
    "# stdrd_rmse_f = np.array(stdrd_rmse_f)\n",
    "# stdrd_rmse_a = np.array(stdrd_rmse_a)"
   ]
  },
  {
   "cell_type": "code",
   "execution_count": 25,
   "metadata": {},
   "outputs": [
    {
     "name": "stdout",
     "output_type": "stream",
     "text": [
      "Smoothing method\n",
      "Min forecast rmse of: 0.01085\n",
      "With coarse loc: 80\n",
      "fine loc: 8\n",
      "smoothing dist: 16\n",
      "alpha: 0.06\n",
      "\n",
      "Min anlysis rmse of: 0.01013\n",
      "With coarse loc: 80\n",
      "fine loc: 8\n",
      "smoothing dist: 16\n",
      "alpha: 0.06\n",
      "\n",
      "Standard method\n",
      "Min forecast rmse of: 0.04466\n",
      "With loc: 10.0\n",
      "alpha: 0.08\n",
      "\n",
      "Min anlysis rmse of: 0.04318\n",
      "With loc: 10.0\n",
      "alpha: 0.08\n",
      "\n",
      "This is a 75.71% improvement for forecasts\n",
      "This is a 76.54% improvement for analysis\n"
     ]
    }
   ],
   "source": [
    "smooth_index_f = np.argmin(smooth_rmse_f)\n",
    "smooth_index_a = np.argmin(smooth_rmse_a)\n",
    "\n",
    "stdrd_index_f = np.argmin(stdrd_rmse_f)\n",
    "stdrd_index_a = np.argmin(stdrd_rmse_a)\n",
    "\n",
    "print('Smoothing method')\n",
    "print(f'Min forecast rmse of: {smooth_rmse_f[smooth_index_f]:0.4}')\n",
    "print(f'With coarse loc: {smooth_cloc[smooth_index_f]}')\n",
    "print(f'fine loc: {smooth_floc[smooth_index_f]}')\n",
    "print(f'smoothing dist: {smooth_smooth[smooth_index_f]}')\n",
    "print(f'alpha: {smooth_alpha[smooth_index_f]}')\n",
    "print()\n",
    "print(f'Min anlysis rmse of: {smooth_rmse_a[smooth_index_a]:0.4}')\n",
    "print(f'With coarse loc: {smooth_cloc[smooth_index_a]}')\n",
    "print(f'fine loc: {smooth_floc[smooth_index_a]}')\n",
    "print(f'smoothing dist: {smooth_smooth[smooth_index_a]}')\n",
    "print(f'alpha: {smooth_alpha[smooth_index_a]}')\n",
    "\n",
    "print()\n",
    "print('Standard method')\n",
    "print(f'Min forecast rmse of: {stdrd_rmse_f[stdrd_index_f]:0.4}')\n",
    "print(f'With loc: {stdrd_loc[stdrd_index_f]}')\n",
    "print(f'alpha: {stdrd_alpha[stdrd_index_f]}')\n",
    "print()\n",
    "print(f'Min anlysis rmse of: {stdrd_rmse_a[stdrd_index_a]:0.4}')\n",
    "print(f'With loc: {stdrd_loc[stdrd_index_a]}')\n",
    "print(f'alpha: {stdrd_alpha[stdrd_index_a]}')\n",
    "\n",
    "sm_f = smooth_rmse_f[smooth_index_f]\n",
    "sm_a = smooth_rmse_a[smooth_index_a]\n",
    "\n",
    "stdrd_f = stdrd_rmse_f[stdrd_index_f]\n",
    "stdrd_a = stdrd_rmse_a[stdrd_index_a]\n",
    "print()\n",
    "print(f'This is a {100*(stdrd_f - sm_f)/(stdrd_f):0.2f}% improvement for forecasts')\n",
    "print(f'This is a {100*(stdrd_a - sm_a)/(stdrd_a):0.2f}% improvement for analysis')"
   ]
  },
  {
   "cell_type": "code",
   "execution_count": 26,
   "metadata": {},
   "outputs": [
    {
     "name": "stdout",
     "output_type": "stream",
     "text": [
      "\n",
      "This is a 75.71% improvement for forecasts\n",
      "This is a 76.54% improvement for analysis\n"
     ]
    }
   ],
   "source": [
    "sm_f = smooth_rmse_f[smooth_index_f]\n",
    "sm_a = smooth_rmse_a[smooth_index_f]\n",
    "\n",
    "stdrd_f = stdrd_rmse_f[stdrd_index_f]\n",
    "stdrd_a = stdrd_rmse_a[stdrd_index_f]\n",
    "print()\n",
    "print(f'This is a {100*(stdrd_f - sm_f)/(stdrd_f):0.2f}% improvement for forecasts')\n",
    "print(f'This is a {100*(stdrd_a - sm_a)/(stdrd_a):0.2f}% improvement for analysis')"
   ]
  },
  {
   "cell_type": "code",
   "execution_count": 27,
   "metadata": {},
   "outputs": [
    {
     "data": {
      "text/plain": [
       "'/Users/harty/Documents/python_code/multi_loc/notebooks/fine_time/fine_obs_R/smooth_loc/inf_0000_smooth_0002_floc_0002_cloc_0001'"
      ]
     },
     "execution_count": 27,
     "metadata": {},
     "output_type": "execute_result"
    }
   ],
   "source": [
    "smooth_dirs[smooth_index_f]"
   ]
  },
  {
   "cell_type": "code",
   "execution_count": 28,
   "metadata": {
    "scrolled": false
   },
   "outputs": [
    {
     "data": {
      "image/png": "[encoded data removed]",
      "text/plain": [
       "<Figure size 432x288 with 2 Axes>"
      ]
     },
     "metadata": {
      "needs_background": "light"
     },
     "output_type": "display_data"
    },
    {
     "data": {
      "image/png": "[encoded data removed]",
      "text/plain": [
       "<Figure size 432x288 with 2 Axes>"
      ]
     },
     "metadata": {
      "needs_background": "light"
     },
     "output_type": "display_data"
    }
   ],
   "source": [
    "plt.figure()\n",
    "im = plt.scatter(stdrd_loc, stdrd_rmse_f, c=stdrd_alpha)\n",
    "cbar = plt.colorbar(im)\n",
    "plt.scatter(stdrd_loc[stdrd_index_f],\n",
    "            stdrd_rmse_f[stdrd_index_f], marker='*', c='r')\n",
    "plt.ylabel('forecast RMSE')\n",
    "plt.xlabel('loc')\n",
    "cbar.set_label('alpha')\n",
    "\n",
    "plt.figure()\n",
    "im = plt.scatter(stdrd_loc, stdrd_rmse_f, c=stdrd_alpha)\n",
    "cbar = plt.colorbar(im)\n",
    "plt.scatter(stdrd_loc[stdrd_index_f],\n",
    "            stdrd_rmse_f[stdrd_index_f], marker='*', c='r')\n",
    "plt.xlim([0, 20])\n",
    "plt.ylim([0, 0.9])\n",
    "plt.ylabel('forecast RMSE')\n",
    "plt.xlabel('loc')\n",
    "cbar.set_label('alpha')"
   ]
  },
  {
   "cell_type": "code",
   "execution_count": 29,
   "metadata": {},
   "outputs": [],
   "source": [
    "%matplotlib inline"
   ]
  },
  {
   "cell_type": "code",
   "execution_count": 30,
   "metadata": {},
   "outputs": [
    {
     "data": {
      "image/png": "[encoded data removed]",
      "text/plain": [
       "<Figure size 432x288 with 2 Axes>"
      ]
     },
     "metadata": {
      "needs_background": "light"
     },
     "output_type": "display_data"
    }
   ],
   "source": [
    "plt.figure()\n",
    "im = plt.scatter(stdrd_loc, stdrd_rmse_f, c=stdrd_alpha)\n",
    "cbar = plt.colorbar(im)\n",
    "plt.scatter(stdrd_loc[stdrd_index_f],\n",
    "            stdrd_rmse_f[stdrd_index_f], marker='*', c='r')\n",
    "plt.ylabel('forecast RMSE')\n",
    "plt.xlabel('loc')\n",
    "cbar.set_label('alpha')"
   ]
  },
  {
   "cell_type": "code",
   "execution_count": 33,
   "metadata": {},
   "outputs": [
    {
     "data": {
      "image/png": "[encoded data removed]",
      "text/plain": [
       "<Figure size 432x288 with 2 Axes>"
      ]
     },
     "metadata": {
      "needs_background": "light"
     },
     "output_type": "display_data"
    },
    {
     "data": {
      "image/png": "[encoded data removed]",
      "text/plain": [
       "<Figure size 432x288 with 2 Axes>"
      ]
     },
     "metadata": {
      "needs_background": "light"
     },
     "output_type": "display_data"
    },
    {
     "data": {
      "image/png": "[encoded data removed]",
      "text/plain": [
       "<Figure size 432x288 with 2 Axes>"
      ]
     },
     "metadata": {
      "needs_background": "light"
     },
     "output_type": "display_data"
    }
   ],
   "source": [
    "smooth_mask = smooth_smooth == smooth_smooth[smooth_index_f]\n",
    "cloc_mask = smooth_cloc == smooth_cloc[smooth_index_f]\n",
    "floc_mask = smooth_floc == smooth_floc[smooth_index_f]\n",
    "\n",
    "plt.figure()\n",
    "im = plt.scatter(smooth_cloc[smooth_mask],\n",
    "                 smooth_rmse_f[smooth_mask],\n",
    "                 c=smooth_floc[smooth_mask])\n",
    "cbar = plt.colorbar(im)\n",
    "plt.ylabel('RMSE')\n",
    "plt.xlabel('coarse loc')\n",
    "cbar.set_label('fine loc')\n",
    "\n",
    "plt.figure()\n",
    "im = plt.scatter(smooth_smooth[cloc_mask],\n",
    "                 smooth_rmse_f[cloc_mask],\n",
    "                 c=smooth_floc[cloc_mask])\n",
    "cbar = plt.colorbar(im)\n",
    "# plt.scatter(stdrd_loc[stdrd_index_f],\n",
    "#             stdrd_rmse_f[stdrd_index_f], marker='*', c='r')\n",
    "plt.ylabel('RMSE')\n",
    "plt.xlabel('smooth length')\n",
    "cbar.set_label('fine loc')\n",
    "\n",
    "plt.figure()\n",
    "im = plt.scatter(smooth_smooth[floc_mask],\n",
    "                 smooth_rmse_f[floc_mask],\n",
    "                 c=smooth_cloc[floc_mask])\n",
    "cbar = plt.colorbar(im)\n",
    "# plt.scatter(stdrd_loc[stdrd_index_f],\n",
    "#             stdrd_rmse_f[stdrd_index_f], marker='*', c='r')\n",
    "plt.ylabel('RMSE')\n",
    "plt.xlabel('smooth length')\n",
    "cbar.set_label('coarse loc')"
   ]
  },
  {
   "cell_type": "code",
   "execution_count": null,
   "metadata": {},
   "outputs": [],
   "source": []
  }
 ],
 "metadata": {
  "kernelspec": {
   "display_name": "Python 3",
   "language": "python",
   "name": "python3"
  },
  "language_info": {
   "codemirror_mode": {
    "name": "ipython",
    "version": 3
   },
   "file_extension": ".py",
   "mimetype": "text/x-python",
   "name": "python",
   "nbconvert_exporter": "python",
   "pygments_lexer": "ipython3",
   "version": "3.7.3"
  }
 },
 "nbformat": 4,
 "nbformat_minor": 2
}
