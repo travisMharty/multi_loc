{
 "cells": [
  {
   "cell_type": "markdown",
   "metadata": {},
   "source": [
    "This notebook looks at the Lorenz Model III as described in Lorenz, 2005.\n",
    "This model has a long and short scale that interact with eachother.\n",
    "The state variable is $Z$ and contains both scales.\n",
    "$Z$ is smoothed using a window defined by $I$ and weights defined by $\\alpha$ and $\\beta$, generating the variable $X$ which contains the long scales.\n",
    "The variable $Y$ contains the short scales and is equal to $Z - X$.\n",
    "\n",
    "The time derivative of $Z$ is very simmilar to the Lorenz-96 model:\n",
    "$$\n",
    "d Z_n/dt = [X, X]_{K, n} + b^2 [Y, Y]_{1, n} + c[Y, X]_{1, n} - X_n - bY_n + F\n",
    "$$\n",
    "$$\n",
    "X_n = \\sum_{i = -I}^I (\\alpha - \\beta |i|) Z_{n + i}\n",
    "$$\n",
    "Where the above has the first and last terms divided by 2.\n",
    "$$\n",
    "Y_n = Z_n - X_n\n",
    "$$\n",
    "$$\n",
    "[X, Y]_{K, n} = \\sum_{j=-J}^{J}\\sum_{i=-J}^{J}( -X_{n - 2K - i}Y_{n-K-j} + X_{n - K + j - i}Y_{n + K + j})/K^2\n",
    "$$\n",
    "For an odd $K$, $J = (K-1)/2$.\n",
    "For an even $K$, $J=K/2$ and the above two sums have the first and last terms divided by 2.\n",
    "\n",
    "In order to make this model work with a coarse model (too coarse to capture the behavior of $Y$) I estimate the terms involving $Y$ using the fine ensemble.\n",
    "Therefore, the fine ensemble effects the coarse ensemble (each fine ensemble member effects multiple coarse ensemble members), but the coarse ensemble does not effect the fine ensemble."
   ]
  },
  {
   "cell_type": "code",
   "execution_count": null,
   "metadata": {},
   "outputs": [],
   "source": [
    "import importlib\n",
    "import time\n",
    "import os\n",
    "import pickle\n",
    "import numpy as np\n",
    "import scipy as sp\n",
    "import matplotlib.pyplot as plt\n",
    "from scipy import ndimage\n",
    "from scipy import integrate\n",
    "from scipy import interpolate"
   ]
  },
  {
   "cell_type": "code",
   "execution_count": 2,
   "metadata": {},
   "outputs": [],
   "source": [
    "from multi_loc import covariance, assimilate, utilities"
   ]
  },
  {
   "cell_type": "code",
   "execution_count": 3,
   "metadata": {},
   "outputs": [],
   "source": [
    "%matplotlib inline"
   ]
  },
  {
   "cell_type": "code",
   "execution_count": 4,
   "metadata": {},
   "outputs": [],
   "source": [
    "def imshow(X, title=None, vmin=None, vmax=None, cmap=None):\n",
    "    plt.figure()\n",
    "    im = plt.imshow(X, vmin=vmin, vmax=vmax, cmap=cmap)\n",
    "    plt.colorbar(im)\n",
    "    plt.title(title)"
   ]
  },
  {
   "cell_type": "code",
   "execution_count": 5,
   "metadata": {},
   "outputs": [],
   "source": [
    "load_files = False"
   ]
  },
  {
   "cell_type": "code",
   "execution_count": 6,
   "metadata": {},
   "outputs": [],
   "source": [
    "N_Z = 960\n",
    "K = 32\n",
    "I = 12\n",
    "F = float(15)\n",
    "b = float(10)\n",
    "# b = float(7)\n",
    "c = float(2.5)\n",
    "alpha = (3 * I**2 + 3) / (2 * I**3 + 4 * I)\n",
    "beta = (2 * I**2 + 1) / (I**4 + 2 * I**2)\n",
    "\n",
    "coarse = 8\n",
    "N_Xc = N_Z//coarse\n",
    "K_c = K//coarse\n",
    "\n",
    "N_eZ = 20\n",
    "N_eX = 500\n",
    "save_dir = 'RK_tune'\n",
    "save_dir = os.path.join(\n",
    "    '/home/travisharty/Documents/python_code/multi_loc/notebooks/',\n",
    "    save_dir)\n",
    "\n",
    "\n",
    "dt_rk = 0.05/12\n",
    "dt_lr = 1/10\n",
    "dt_gt = 0.05/24\n",
    "\n",
    "T_ic = (120)/5\n",
    "T_lr = 4000\n",
    "T_gt = 250\n",
    "\n",
    "t_gt = np.linspace(0, T_gt, int(T_gt/dt_gt) + 1)\n",
    "t_lr = np.linspace(0, T_lr, int(T_lr/dt_lr) + 1)\n",
    "\n",
    "if not os.path.exists(save_dir):\n",
    "    os.mkdir(save_dir)\n",
    "\n",
    "this_path = os.path.join(save_dir, 't_gt')\n",
    "np.save(this_path, t_gt)\n",
    "\n",
    "this_path = os.path.join(save_dir, 't_lr')\n",
    "np.save(this_path, t_lr)"
   ]
  },
  {
   "cell_type": "code",
   "execution_count": 11,
   "metadata": {},
   "outputs": [],
   "source": [
    "run_vars = {'Nz': N_Z,\n",
    "            'K': K,\n",
    "            'I': I,\n",
    "            'F': F,\n",
    "            'b': b,\n",
    "            'c': c,\n",
    "            'alpha': alpha,\n",
    "            'beta': beta,\n",
    "            'coarse': coarse,\n",
    "            'Nez': N_eZ,\n",
    "            'Nex': N_eX,\n",
    "            'dt_rk': dt_rk,\n",
    "            'dt_lr': dt_lr,\n",
    "            'dt_gt': dt_gt,\n",
    "            'Tic': T_ic,\n",
    "            'Tlr': T_lr,\n",
    "            'Tgt': T_gt\n",
    "            }\n",
    "this_path = os.path.join(save_dir, 'run_vars.pkl')\n",
    "with open(this_path, mode='wb') as f:\n",
    "    pickle.dump(run_vars, f)"
   ]
  },
  {
   "cell_type": "code",
   "execution_count": null,
   "metadata": {},
   "outputs": [],
   "source": []
  },
  {
   "cell_type": "markdown",
   "metadata": {},
   "source": [
    "# Random initialization for X and Y"
   ]
  },
  {
   "cell_type": "code",
   "execution_count": 7,
   "metadata": {},
   "outputs": [],
   "source": [
    "X_interp = np.random.uniform(low=-5, high=10, size=N_Z//K)\n",
    "X_interp = np.concatenate([X_interp, [X_interp[0]]])\n",
    "x = np.arange(N_Z)\n",
    "x_interp = x[::K]\n",
    "x_interp = np.concatenate([x_interp, [x[-1] + 1]])\n",
    "f_X = interpolate.interp1d(x_interp, X_interp, kind='quadratic')\n",
    "X0 = f_X(x)\n",
    "\n",
    "Y0 = np.random.uniform(low=-0.5, high=1, size=N_Z)\n",
    "\n",
    "Z0 = X0 + X0*Y0/X0.max()"
   ]
  },
  {
   "cell_type": "code",
   "execution_count": 8,
   "metadata": {},
   "outputs": [],
   "source": [
    "# dt = 0.05/12\n",
    "# dt_obs = dt\n",
    "# T = (120)/5\n",
    "# Nt = int(T/dt) + 1"
   ]
  },
  {
   "cell_type": "code",
   "execution_count": 11,
   "metadata": {},
   "outputs": [],
   "source": [
    "Z = utilities.return_LM3_data(Z0, dt_rk, T_ic, dt_rk, K=K, I=I, F=F, b=b, c=c)"
   ]
  },
  {
   "cell_type": "code",
   "execution_count": 97,
   "metadata": {},
   "outputs": [],
   "source": [
    "theta_Z = np.linspace(0, 2 * np.pi, N_Z + 1)"
   ]
  },
  {
   "cell_type": "markdown",
   "metadata": {},
   "source": [
    "# Use end of run as init"
   ]
  },
  {
   "cell_type": "code",
   "execution_count": 148,
   "metadata": {},
   "outputs": [],
   "source": [
    "Z0 = Z[:, -1]"
   ]
  },
  {
   "cell_type": "markdown",
   "metadata": {},
   "source": [
    "# Long run to generate ensemble"
   ]
  },
  {
   "cell_type": "code",
   "execution_count": 13,
   "metadata": {},
   "outputs": [],
   "source": [
    "# Z = utilities.return_LM3_data(\n",
    "#     Z0, dt_rk, T_lr, dt_lr, K=K, I=I, F=F, b=b, c=c)\n",
    "\n",
    "# this_path = os.path.join(save_dir, 'Z_long_run')\n",
    "# np.save(this_path, Z)\n",
    "\n",
    "this_path = os.path.join(save_dir, 'Z_long_run.npy')\n",
    "Z = np.load(this_path)"
   ]
  },
  {
   "cell_type": "code",
   "execution_count": 14,
   "metadata": {},
   "outputs": [],
   "source": [
    "X = utilities.window_sum_Z(Z, I=I, alpha=alpha, beta=beta)\n",
    "Y = Z - X"
   ]
  },
  {
   "cell_type": "code",
   "execution_count": 15,
   "metadata": {},
   "outputs": [],
   "source": [
    "if not load_files:\n",
    "    X0_ens, Z0_ens = utilities.generate_X_Z_LM3_ens(\n",
    "        Z, N_eX, N_eZ, coarse, I, alpha, beta)\n",
    "    \n",
    "    this_path = os.path.join(save_dir, 'X0_ens.npy')\n",
    "    np.save(this_path, X0_ens)\n",
    "    this_path = os.path.join(save_dir, 'Z0_ens.npy')\n",
    "    np.save(this_path, Z0_ens)\n",
    "else:\n",
    "    this_path = os.path.join(save_dir, 'X0_ens.npy')\n",
    "    X0_ens = np.load(this_path)\n",
    "    this_path = os.path.join(save_dir, 'Z0_ens.npy')\n",
    "    Z0_ens = np.load(this_path)"
   ]
  },
  {
   "cell_type": "markdown",
   "metadata": {},
   "source": [
    "# Generate Truth run"
   ]
  },
  {
   "cell_type": "code",
   "execution_count": 29,
   "metadata": {},
   "outputs": [],
   "source": [
    "X_interp = np.random.uniform(low=-5, high=10, size=N_Z//K)\n",
    "X_interp = np.concatenate([X_interp, [X_interp[0]]])\n",
    "x = np.arange(N_Z)\n",
    "x_interp = x[::K]\n",
    "x_interp = np.concatenate([x_interp, [x[-1] + 1]])\n",
    "f_X = interpolate.interp1d(x_interp, X_interp, kind='quadratic')\n",
    "X0 = f_X(x)\n",
    "\n",
    "Y0 = np.random.uniform(low=-0.5, high=1, size=N_Z)\n",
    "\n",
    "Z0 = X0 + X0*Y0/X0.max()\n",
    "\n",
    "# t = np.linspace(0, 20, 100)\n",
    "\n",
    "Z = utilities.return_LM3_data(\n",
    "    Z0, dt_rk, T_ic, dt_rk, K=K, I=I, F=F, b=b, c=c)\n",
    "\n",
    "Z0 = Z[:, -1]"
   ]
  },
  {
   "cell_type": "code",
   "execution_count": 30,
   "metadata": {},
   "outputs": [],
   "source": [
    "Z_GT = utilities.return_LM3_data(\n",
    "    Z0, dt_gt, T_gt, dt_gt, K=K, I=I, F=F, b=b, c=c)\n",
    "\n",
    "this_path = os.path.join(save_dir, 'Z_GT')\n",
    "np.save(this_path, Z_GT)\n",
    "# Z_GT = np.load('./Z_GT.npy')"
   ]
  }
 ],
 "metadata": {
  "kernelspec": {
   "display_name": "Python 3",
   "language": "python",
   "name": "python3"
  },
  "language_info": {
   "codemirror_mode": {
    "name": "ipython",
    "version": 3
   },
   "file_extension": ".py",
   "mimetype": "text/x-python",
   "name": "python",
   "nbconvert_exporter": "python",
   "pygments_lexer": "ipython3",
   "version": "3.7.3"
  }
 },
 "nbformat": 4,
 "nbformat_minor": 2
}
